{
 "cells": [
  {
   "cell_type": "markdown",
   "id": "c7687146",
   "metadata": {},
   "source": [
    "# 数据集"
   ]
  },
  {
   "cell_type": "code",
   "execution_count": 1,
   "id": "9d70ce40",
   "metadata": {
    "ExecuteTime": {
     "end_time": "2024-02-12T10:17:49.303447Z",
     "start_time": "2024-02-12T10:17:47.996434Z"
    }
   },
   "outputs": [],
   "source": [
    "import numpy as np\n",
    "from sklearn.model_selection import train_test_split\n",
    "from sklearn.datasets import load_iris"
   ]
  },
  {
   "cell_type": "code",
   "execution_count": 2,
   "id": "cd3fe7db",
   "metadata": {
    "ExecuteTime": {
     "end_time": "2024-02-12T10:17:49.331338Z",
     "start_time": "2024-02-12T10:17:49.305450Z"
    }
   },
   "outputs": [],
   "source": [
    "iris=load_iris()\n",
    "x=iris.data\n",
    "y=iris.target"
   ]
  },
  {
   "cell_type": "code",
   "execution_count": 3,
   "id": "3408ec37",
   "metadata": {
    "ExecuteTime": {
     "end_time": "2024-02-12T10:17:49.342830Z",
     "start_time": "2024-02-12T10:17:49.332344Z"
    }
   },
   "outputs": [
    {
     "data": {
      "text/plain": [
       "((105, 4), (45, 4), (105,), (45,))"
      ]
     },
     "execution_count": 3,
     "metadata": {},
     "output_type": "execute_result"
    }
   ],
   "source": [
    "x_train,x_test,y_train,y_test=train_test_split(x,y,train_size=0.7,random_state=233,stratify=y)\n",
    "x_train.shape,x_test.shape,y_train.shape,y_test.shape"
   ]
  },
  {
   "cell_type": "markdown",
   "id": "80f89464",
   "metadata": {},
   "source": [
    "# 超参数搜索"
   ]
  },
  {
   "cell_type": "markdown",
   "id": "2a04847a",
   "metadata": {},
   "source": [
    "## KNN超参数搜索"
   ]
  },
  {
   "cell_type": "code",
   "execution_count": 4,
   "id": "9e479372",
   "metadata": {
    "ExecuteTime": {
     "end_time": "2024-02-12T10:17:49.435996Z",
     "start_time": "2024-02-12T10:17:49.344828Z"
    }
   },
   "outputs": [],
   "source": [
    "from sklearn.neighbors import KNeighborsClassifier"
   ]
  },
  {
   "cell_type": "code",
   "execution_count": 5,
   "id": "80f94b55",
   "metadata": {
    "ExecuteTime": {
     "end_time": "2024-02-12T10:17:50.159739Z",
     "start_time": "2024-02-12T10:17:49.436997Z"
    }
   },
   "outputs": [
    {
     "name": "stdout",
     "output_type": "stream",
     "text": [
      "n_neighbors: 5\n",
      "weights: uniform\n",
      "p: 2\n",
      "score: 1.0\n"
     ]
    }
   ],
   "source": [
    "best_score=-1\n",
    "best_n=-1\n",
    "best_weight=\"\"\n",
    "best_p=-1\n",
    "\n",
    "for n in range(1,20):\n",
    "    for weight in ['uniform','distance']:\n",
    "        for p in range(1,7):\n",
    "            neigh=KNeighborsClassifier(\n",
    "                n_neighbors=n,\n",
    "                weights=weight,\n",
    "                p=p\n",
    "            )\n",
    "            neigh.fit(x_train,y_train)\n",
    "            score=neigh.score(x_test,y_test)\n",
    "            if score>best_score:\n",
    "                best_score=score\n",
    "                best_n=n\n",
    "                best_p=p\n",
    "                best_weight=weight\n",
    "                \n",
    "print(\"n_neighbors:\",best_n)\n",
    "print(\"weights:\",best_weight)\n",
    "print(\"p:\",best_p)\n",
    "print(\"score:\",best_score)"
   ]
  },
  {
   "cell_type": "markdown",
   "id": "befd559b",
   "metadata": {},
   "source": [
    "## sklearn超参数搜索"
   ]
  },
  {
   "cell_type": "code",
   "execution_count": 6,
   "id": "0a446247",
   "metadata": {
    "ExecuteTime": {
     "end_time": "2024-02-12T10:17:50.165891Z",
     "start_time": "2024-02-12T10:17:50.161737Z"
    }
   },
   "outputs": [],
   "source": [
    "from sklearn.model_selection import GridSearchCV"
   ]
  },
  {
   "cell_type": "code",
   "execution_count": 7,
   "id": "ae639be6",
   "metadata": {
    "ExecuteTime": {
     "end_time": "2024-02-12T10:17:50.182615Z",
     "start_time": "2024-02-12T10:17:50.167830Z"
    }
   },
   "outputs": [],
   "source": [
    "params={\n",
    "    'n_neighbors':[n for n in range(1,20)],\n",
    "    'weights':['uniform','distance'],\n",
    "    'p':[p for p in range(1,7)]\n",
    "}"
   ]
  },
  {
   "cell_type": "code",
   "execution_count": 8,
   "id": "5349b050",
   "metadata": {
    "ExecuteTime": {
     "end_time": "2024-02-12T10:17:50.189912Z",
     "start_time": "2024-02-12T10:17:50.184533Z"
    }
   },
   "outputs": [],
   "source": [
    "grid=GridSearchCV(\n",
    "    estimator=KNeighborsClassifier(),\n",
    "    param_grid=params,\n",
    "    n_jobs=-1,\n",
    ")"
   ]
  },
  {
   "cell_type": "code",
   "execution_count": 9,
   "id": "54a2d28c",
   "metadata": {
    "ExecuteTime": {
     "end_time": "2024-02-12T10:17:54.413966Z",
     "start_time": "2024-02-12T10:17:50.191911Z"
    }
   },
   "outputs": [
    {
     "data": {
      "text/html": [
       "<style>#sk-container-id-1 {color: black;}#sk-container-id-1 pre{padding: 0;}#sk-container-id-1 div.sk-toggleable {background-color: white;}#sk-container-id-1 label.sk-toggleable__label {cursor: pointer;display: block;width: 100%;margin-bottom: 0;padding: 0.3em;box-sizing: border-box;text-align: center;}#sk-container-id-1 label.sk-toggleable__label-arrow:before {content: \"▸\";float: left;margin-right: 0.25em;color: #696969;}#sk-container-id-1 label.sk-toggleable__label-arrow:hover:before {color: black;}#sk-container-id-1 div.sk-estimator:hover label.sk-toggleable__label-arrow:before {color: black;}#sk-container-id-1 div.sk-toggleable__content {max-height: 0;max-width: 0;overflow: hidden;text-align: left;background-color: #f0f8ff;}#sk-container-id-1 div.sk-toggleable__content pre {margin: 0.2em;color: black;border-radius: 0.25em;background-color: #f0f8ff;}#sk-container-id-1 input.sk-toggleable__control:checked~div.sk-toggleable__content {max-height: 200px;max-width: 100%;overflow: auto;}#sk-container-id-1 input.sk-toggleable__control:checked~label.sk-toggleable__label-arrow:before {content: \"▾\";}#sk-container-id-1 div.sk-estimator input.sk-toggleable__control:checked~label.sk-toggleable__label {background-color: #d4ebff;}#sk-container-id-1 div.sk-label input.sk-toggleable__control:checked~label.sk-toggleable__label {background-color: #d4ebff;}#sk-container-id-1 input.sk-hidden--visually {border: 0;clip: rect(1px 1px 1px 1px);clip: rect(1px, 1px, 1px, 1px);height: 1px;margin: -1px;overflow: hidden;padding: 0;position: absolute;width: 1px;}#sk-container-id-1 div.sk-estimator {font-family: monospace;background-color: #f0f8ff;border: 1px dotted black;border-radius: 0.25em;box-sizing: border-box;margin-bottom: 0.5em;}#sk-container-id-1 div.sk-estimator:hover {background-color: #d4ebff;}#sk-container-id-1 div.sk-parallel-item::after {content: \"\";width: 100%;border-bottom: 1px solid gray;flex-grow: 1;}#sk-container-id-1 div.sk-label:hover label.sk-toggleable__label {background-color: #d4ebff;}#sk-container-id-1 div.sk-serial::before {content: \"\";position: absolute;border-left: 1px solid gray;box-sizing: border-box;top: 0;bottom: 0;left: 50%;z-index: 0;}#sk-container-id-1 div.sk-serial {display: flex;flex-direction: column;align-items: center;background-color: white;padding-right: 0.2em;padding-left: 0.2em;position: relative;}#sk-container-id-1 div.sk-item {position: relative;z-index: 1;}#sk-container-id-1 div.sk-parallel {display: flex;align-items: stretch;justify-content: center;background-color: white;position: relative;}#sk-container-id-1 div.sk-item::before, #sk-container-id-1 div.sk-parallel-item::before {content: \"\";position: absolute;border-left: 1px solid gray;box-sizing: border-box;top: 0;bottom: 0;left: 50%;z-index: -1;}#sk-container-id-1 div.sk-parallel-item {display: flex;flex-direction: column;z-index: 1;position: relative;background-color: white;}#sk-container-id-1 div.sk-parallel-item:first-child::after {align-self: flex-end;width: 50%;}#sk-container-id-1 div.sk-parallel-item:last-child::after {align-self: flex-start;width: 50%;}#sk-container-id-1 div.sk-parallel-item:only-child::after {width: 0;}#sk-container-id-1 div.sk-dashed-wrapped {border: 1px dashed gray;margin: 0 0.4em 0.5em 0.4em;box-sizing: border-box;padding-bottom: 0.4em;background-color: white;}#sk-container-id-1 div.sk-label label {font-family: monospace;font-weight: bold;display: inline-block;line-height: 1.2em;}#sk-container-id-1 div.sk-label-container {text-align: center;}#sk-container-id-1 div.sk-container {/* jupyter's `normalize.less` sets `[hidden] { display: none; }` but bootstrap.min.css set `[hidden] { display: none !important; }` so we also need the `!important` here to be able to override the default hidden behavior on the sphinx rendered scikit-learn.org. See: https://github.com/scikit-learn/scikit-learn/issues/21755 */display: inline-block !important;position: relative;}#sk-container-id-1 div.sk-text-repr-fallback {display: none;}</style><div id=\"sk-container-id-1\" class=\"sk-top-container\"><div class=\"sk-text-repr-fallback\"><pre>GridSearchCV(estimator=KNeighborsClassifier(), n_jobs=-1,\n",
       "             param_grid={&#x27;n_neighbors&#x27;: [1, 2, 3, 4, 5, 6, 7, 8, 9, 10, 11, 12,\n",
       "                                         13, 14, 15, 16, 17, 18, 19],\n",
       "                         &#x27;p&#x27;: [1, 2, 3, 4, 5, 6],\n",
       "                         &#x27;weights&#x27;: [&#x27;uniform&#x27;, &#x27;distance&#x27;]})</pre><b>In a Jupyter environment, please rerun this cell to show the HTML representation or trust the notebook. <br />On GitHub, the HTML representation is unable to render, please try loading this page with nbviewer.org.</b></div><div class=\"sk-container\" hidden><div class=\"sk-item sk-dashed-wrapped\"><div class=\"sk-label-container\"><div class=\"sk-label sk-toggleable\"><input class=\"sk-toggleable__control sk-hidden--visually\" id=\"sk-estimator-id-1\" type=\"checkbox\" ><label for=\"sk-estimator-id-1\" class=\"sk-toggleable__label sk-toggleable__label-arrow\">GridSearchCV</label><div class=\"sk-toggleable__content\"><pre>GridSearchCV(estimator=KNeighborsClassifier(), n_jobs=-1,\n",
       "             param_grid={&#x27;n_neighbors&#x27;: [1, 2, 3, 4, 5, 6, 7, 8, 9, 10, 11, 12,\n",
       "                                         13, 14, 15, 16, 17, 18, 19],\n",
       "                         &#x27;p&#x27;: [1, 2, 3, 4, 5, 6],\n",
       "                         &#x27;weights&#x27;: [&#x27;uniform&#x27;, &#x27;distance&#x27;]})</pre></div></div></div><div class=\"sk-parallel\"><div class=\"sk-parallel-item\"><div class=\"sk-item\"><div class=\"sk-label-container\"><div class=\"sk-label sk-toggleable\"><input class=\"sk-toggleable__control sk-hidden--visually\" id=\"sk-estimator-id-2\" type=\"checkbox\" ><label for=\"sk-estimator-id-2\" class=\"sk-toggleable__label sk-toggleable__label-arrow\">estimator: KNeighborsClassifier</label><div class=\"sk-toggleable__content\"><pre>KNeighborsClassifier()</pre></div></div></div><div class=\"sk-serial\"><div class=\"sk-item\"><div class=\"sk-estimator sk-toggleable\"><input class=\"sk-toggleable__control sk-hidden--visually\" id=\"sk-estimator-id-3\" type=\"checkbox\" ><label for=\"sk-estimator-id-3\" class=\"sk-toggleable__label sk-toggleable__label-arrow\">KNeighborsClassifier</label><div class=\"sk-toggleable__content\"><pre>KNeighborsClassifier()</pre></div></div></div></div></div></div></div></div></div></div>"
      ],
      "text/plain": [
       "GridSearchCV(estimator=KNeighborsClassifier(), n_jobs=-1,\n",
       "             param_grid={'n_neighbors': [1, 2, 3, 4, 5, 6, 7, 8, 9, 10, 11, 12,\n",
       "                                         13, 14, 15, 16, 17, 18, 19],\n",
       "                         'p': [1, 2, 3, 4, 5, 6],\n",
       "                         'weights': ['uniform', 'distance']})"
      ]
     },
     "execution_count": 9,
     "metadata": {},
     "output_type": "execute_result"
    }
   ],
   "source": [
    "grid.fit(x_train,y_train)"
   ]
  },
  {
   "cell_type": "code",
   "execution_count": 10,
   "id": "eb12a1ec",
   "metadata": {
    "ExecuteTime": {
     "end_time": "2024-02-12T10:17:54.423048Z",
     "start_time": "2024-02-12T10:17:54.416961Z"
    }
   },
   "outputs": [
    {
     "data": {
      "text/plain": [
       "{'n_neighbors': 9, 'p': 2, 'weights': 'uniform'}"
      ]
     },
     "execution_count": 10,
     "metadata": {},
     "output_type": "execute_result"
    }
   ],
   "source": [
    "grid.best_params_"
   ]
  },
  {
   "cell_type": "code",
   "execution_count": 11,
   "id": "0154ee3e",
   "metadata": {
    "ExecuteTime": {
     "end_time": "2024-02-12T10:18:09.133127Z",
     "start_time": "2024-02-12T10:18:09.127998Z"
    }
   },
   "outputs": [
    {
     "data": {
      "text/plain": [
       "0.961904761904762"
      ]
     },
     "execution_count": 11,
     "metadata": {},
     "output_type": "execute_result"
    }
   ],
   "source": [
    "grid.best_score_"
   ]
  },
  {
   "cell_type": "markdown",
   "id": "b0d7128f",
   "metadata": {},
   "source": [
    "# 交叉验证（cross_val_score方法）将交叉验证和score合并到一个方法里将传入的样本随机分为5份，依次把每一份当作验证集数，剩余作训练集，训练结束后输出score"
   ]
  },
  {
   "cell_type": "markdown",
   "id": "fda16f22",
   "metadata": {},
   "source": [
    "## [cross_val_score](https://blog.csdn.net/worther/article/details/126909270?ops_request_misc=%257B%2522request%255Fid%2522%253A%2522170783717316800226581162%2522%252C%2522scm%2522%253A%252220140713.130102334..%2522%257D&request_id=170783717316800226581162&biz_id=0&utm_medium=distribute.pc_search_result.none-task-blog-2~all~top_positive~default-1-126909270-null-null.142^v99^pc_search_result_base2&utm_term=cross_val_score&spm=1018.2226.3001.4187)"
   ]
  },
  {
   "cell_type": "code",
   "execution_count": 12,
   "id": "a8b9e446",
   "metadata": {
    "ExecuteTime": {
     "end_time": "2024-02-12T16:34:28.430682Z",
     "start_time": "2024-02-12T16:34:28.401293Z"
    }
   },
   "outputs": [
    {
     "name": "stdout",
     "output_type": "stream",
     "text": [
      "[0.95238095 1.         0.95238095 0.85714286 1.        ]\n"
     ]
    }
   ],
   "source": [
    "from sklearn.model_selection import cross_val_score\n",
    "\n",
    "neigh=KNeighborsClassifier()#一个默认参数的knn分类器\n",
    "cv_scores=cross_val_score(neigh,x_train,y_train,cv=5)\n",
    "print(cv_scores)"
   ]
  },
  {
   "cell_type": "code",
   "execution_count": 13,
   "id": "0a939af6",
   "metadata": {
    "ExecuteTime": {
     "end_time": "2024-02-12T16:37:39.322345Z",
     "start_time": "2024-02-12T16:37:36.542745Z"
    }
   },
   "outputs": [
    {
     "name": "stdout",
     "output_type": "stream",
     "text": [
      "n_neighbors: 9\n",
      "weights: uniform\n",
      "p: 2\n",
      "score: [1.         1.         0.95238095 0.85714286 1.        ]\n"
     ]
    }
   ],
   "source": [
    "best_score=-1\n",
    "best_n=-1\n",
    "best_weight=\"\"\n",
    "best_p=-1\n",
    "best_cv_scores=None\n",
    "for n in range(1,20):\n",
    "    for weight in ['uniform','distance']:\n",
    "        for p in range(1,7):\n",
    "            neigh=KNeighborsClassifier(\n",
    "                n_neighbors=n,\n",
    "                weights=weight,\n",
    "                p=p\n",
    "            )\n",
    "            cv_scores=cross_val_score(neigh,x_train,y_train,cv=5)\n",
    "            score=np.mean(cv_scores)\n",
    "            if score>best_score:\n",
    "                best_score=score\n",
    "                best_n=n\n",
    "                best_p=p\n",
    "                best_weight=weight\n",
    "                best_cv_scores=cv_scores\n",
    "                \n",
    "print(\"n_neighbors:\",best_n)\n",
    "print(\"weights:\",best_weight)\n",
    "print(\"p:\",best_p)\n",
    "print(\"score:\",best_cv_scores)"
   ]
  },
  {
   "cell_type": "code",
   "execution_count": 14,
   "id": "fe9aa2a6",
   "metadata": {
    "ExecuteTime": {
     "end_time": "2024-02-12T16:38:15.787971Z",
     "start_time": "2024-02-12T16:38:15.784376Z"
    }
   },
   "outputs": [],
   "source": [
    "#结果与gridcv完全一致"
   ]
  }
 ],
 "metadata": {
  "kernelspec": {
   "display_name": "Python 3 (ipykernel)",
   "language": "python",
   "name": "python3"
  },
  "language_info": {
   "codemirror_mode": {
    "name": "ipython",
    "version": 3
   },
   "file_extension": ".py",
   "mimetype": "text/x-python",
   "name": "python",
   "nbconvert_exporter": "python",
   "pygments_lexer": "ipython3",
   "version": "3.11.5"
  },
  "toc": {
   "base_numbering": 1,
   "nav_menu": {},
   "number_sections": true,
   "sideBar": true,
   "skip_h1_title": false,
   "title_cell": "Table of Contents",
   "title_sidebar": "Contents",
   "toc_cell": false,
   "toc_position": {},
   "toc_section_display": true,
   "toc_window_display": false
  },
  "varInspector": {
   "cols": {
    "lenName": 16,
    "lenType": 16,
    "lenVar": 40
   },
   "kernels_config": {
    "python": {
     "delete_cmd_postfix": "",
     "delete_cmd_prefix": "del ",
     "library": "var_list.py",
     "varRefreshCmd": "print(var_dic_list())"
    },
    "r": {
     "delete_cmd_postfix": ") ",
     "delete_cmd_prefix": "rm(",
     "library": "var_list.r",
     "varRefreshCmd": "cat(var_dic_list()) "
    }
   },
   "types_to_exclude": [
    "module",
    "function",
    "builtin_function_or_method",
    "instance",
    "_Feature"
   ],
   "window_display": false
  }
 },
 "nbformat": 4,
 "nbformat_minor": 5
}
