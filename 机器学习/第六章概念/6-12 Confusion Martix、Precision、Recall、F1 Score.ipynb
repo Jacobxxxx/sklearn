{
 "cells": [
  {
   "cell_type": "code",
   "execution_count": 1,
   "id": "21939be0",
   "metadata": {
    "ExecuteTime": {
     "end_time": "2024-02-13T17:44:12.415487Z",
     "start_time": "2024-02-13T17:44:12.304988Z"
    }
   },
   "outputs": [],
   "source": [
    "import numpy as np\n",
    "from sklearn import datasets"
   ]
  },
  {
   "cell_type": "code",
   "execution_count": 4,
   "id": "c70fd89f",
   "metadata": {
    "ExecuteTime": {
     "end_time": "2024-02-13T17:45:42.483099Z",
     "start_time": "2024-02-13T17:45:42.468697Z"
    }
   },
   "outputs": [
    {
     "data": {
      "text/plain": [
       "array([0, 0, 0, 0, 0, 0, 0, 0, 0, 0, 0, 0, 0, 0, 0, 0, 0, 0, 0, 0, 0, 0,\n",
       "       0, 0, 0, 0, 0, 0, 0, 0, 0, 0, 0, 0, 0, 0, 0, 0, 0, 0, 0, 0, 0, 0,\n",
       "       0, 0, 0, 0, 0, 0, 1, 1, 1, 1, 1, 1, 1, 1, 1, 1, 1, 1, 1, 1, 1, 1,\n",
       "       1, 1, 1, 1, 1, 1, 1, 1, 1, 1, 1, 1, 1, 1, 1, 1, 1, 1, 1, 1, 1, 1,\n",
       "       1, 1, 1, 1, 1, 1, 1, 1, 1, 1, 1, 1, 2, 2, 2, 2, 2, 2, 2, 2, 2, 2,\n",
       "       2, 2, 2, 2, 2, 2, 2, 2, 2, 2, 2, 2, 2, 2, 2, 2, 2, 2, 2, 2, 2, 2,\n",
       "       2, 2, 2, 2, 2, 2, 2, 2, 2, 2, 2, 2, 2, 2, 2, 2, 2, 2])"
      ]
     },
     "execution_count": 4,
     "metadata": {},
     "output_type": "execute_result"
    }
   ],
   "source": [
    "#加载鸢尾花数据集\n",
    "iris=datasets.load_iris()\n",
    "X=iris.data\n",
    "y=iris.target.copy()\n",
    "y"
   ]
  },
  {
   "cell_type": "code",
   "execution_count": 5,
   "id": "1e54fc04",
   "metadata": {
    "ExecuteTime": {
     "end_time": "2024-02-13T17:46:15.364730Z",
     "start_time": "2024-02-13T17:46:15.356263Z"
    }
   },
   "outputs": [
    {
     "data": {
      "text/plain": [
       "array([0, 0, 0, 0, 0, 0, 0, 0, 0, 0, 0, 0, 0, 0, 0, 0, 0, 0, 0, 0, 0, 0,\n",
       "       0, 0, 0, 0, 0, 0, 0, 0, 0, 0, 0, 0, 0, 0, 0, 0, 0, 0, 0, 0, 0, 0,\n",
       "       0, 0, 0, 0, 0, 0, 1, 1, 1, 1, 1, 1, 1, 1, 1, 1, 1, 1, 1, 1, 1, 1,\n",
       "       1, 1, 1, 1, 1, 1, 1, 1, 1, 1, 1, 1, 1, 1, 1, 1, 1, 1, 1, 1, 1, 1,\n",
       "       1, 1, 1, 1, 1, 1, 1, 1, 1, 1, 1, 1, 1, 1, 1, 1, 1, 1, 1, 1, 1, 1,\n",
       "       1, 1, 1, 1, 1, 1, 1, 1, 1, 1, 1, 1, 1, 1, 1, 1, 1, 1, 1, 1, 1, 1,\n",
       "       1, 1, 1, 1, 1, 1, 1, 1, 1, 1, 1, 1, 1, 1, 1, 1, 1, 1])"
      ]
     },
     "execution_count": 5,
     "metadata": {},
     "output_type": "execute_result"
    }
   ],
   "source": [
    "#转为二分类问题\n",
    "y[y!=0]=1\n",
    "y"
   ]
  },
  {
   "cell_type": "code",
   "execution_count": 6,
   "id": "2e8bd4cb",
   "metadata": {
    "ExecuteTime": {
     "end_time": "2024-02-13T17:48:37.851943Z",
     "start_time": "2024-02-13T17:48:37.823801Z"
    }
   },
   "outputs": [],
   "source": [
    "from sklearn.model_selection import train_test_split\n",
    "from sklearn.linear_model import LogisticRegression\n",
    "\n",
    "X_train,X_test,y_train,y_test=train_test_split(X,y,random_state=666)\n",
    "\n",
    "logistic_regression=LogisticRegression()\n",
    "logistic_regression.fit(X_train,y_train)\n",
    "y_predict=logistic_regression.predict(X_test)"
   ]
  },
  {
   "cell_type": "markdown",
   "id": "bd5a2771",
   "metadata": {},
   "source": [
    "# 手动实现"
   ]
  },
  {
   "cell_type": "code",
   "execution_count": 7,
   "id": "396f3508",
   "metadata": {
    "ExecuteTime": {
     "end_time": "2024-02-13T17:50:10.399945Z",
     "start_time": "2024-02-13T17:50:10.392966Z"
    }
   },
   "outputs": [
    {
     "data": {
      "text/plain": [
       "10"
      ]
     },
     "execution_count": 7,
     "metadata": {},
     "output_type": "execute_result"
    }
   ],
   "source": [
    "TN=np.sum((y_predict==0)&(y_test==0))\n",
    "TN"
   ]
  },
  {
   "cell_type": "code",
   "execution_count": 10,
   "id": "57ec3677",
   "metadata": {
    "ExecuteTime": {
     "end_time": "2024-02-13T17:50:30.714175Z",
     "start_time": "2024-02-13T17:50:30.705163Z"
    }
   },
   "outputs": [
    {
     "data": {
      "text/plain": [
       "0"
      ]
     },
     "execution_count": 10,
     "metadata": {},
     "output_type": "execute_result"
    }
   ],
   "source": [
    "FP=np.sum((y_predict==1)&(y_test==0))\n",
    "FP"
   ]
  },
  {
   "cell_type": "code",
   "execution_count": 11,
   "id": "e4b2735d",
   "metadata": {
    "ExecuteTime": {
     "end_time": "2024-02-13T17:51:27.496281Z",
     "start_time": "2024-02-13T17:51:27.488898Z"
    }
   },
   "outputs": [
    {
     "data": {
      "text/plain": [
       "0"
      ]
     },
     "execution_count": 11,
     "metadata": {},
     "output_type": "execute_result"
    }
   ],
   "source": [
    "FN=np.sum((y_predict==0)&(y_test==1))\n",
    "FN"
   ]
  },
  {
   "cell_type": "code",
   "execution_count": 12,
   "id": "df20e3e2",
   "metadata": {
    "ExecuteTime": {
     "end_time": "2024-02-13T17:52:04.630471Z",
     "start_time": "2024-02-13T17:52:04.620110Z"
    }
   },
   "outputs": [
    {
     "data": {
      "text/plain": [
       "28"
      ]
     },
     "execution_count": 12,
     "metadata": {},
     "output_type": "execute_result"
    }
   ],
   "source": [
    "TP=np.sum((y_predict==1)&(y_test==1))\n",
    "TP"
   ]
  },
  {
   "cell_type": "code",
   "execution_count": 14,
   "id": "b141f173",
   "metadata": {
    "ExecuteTime": {
     "end_time": "2024-02-13T17:53:01.163262Z",
     "start_time": "2024-02-13T17:53:01.157150Z"
    }
   },
   "outputs": [
    {
     "data": {
      "text/plain": [
       "array([[10,  0],\n",
       "       [ 0, 28]])"
      ]
     },
     "execution_count": 14,
     "metadata": {},
     "output_type": "execute_result"
    }
   ],
   "source": [
    "confusion_martix=np.array([\n",
    "    [TN,FP],\n",
    "    [FN,TP]\n",
    "])\n",
    "confusion_martix"
   ]
  },
  {
   "cell_type": "code",
   "execution_count": 15,
   "id": "66d19093",
   "metadata": {
    "ExecuteTime": {
     "end_time": "2024-02-13T17:53:26.817741Z",
     "start_time": "2024-02-13T17:53:26.810641Z"
    }
   },
   "outputs": [
    {
     "data": {
      "text/plain": [
       "1.0"
      ]
     },
     "execution_count": 15,
     "metadata": {},
     "output_type": "execute_result"
    }
   ],
   "source": [
    "precision=TP/(TP+FP)\n",
    "precision"
   ]
  },
  {
   "cell_type": "code",
   "execution_count": 16,
   "id": "9eb7c312",
   "metadata": {
    "ExecuteTime": {
     "end_time": "2024-02-13T17:53:45.741942Z",
     "start_time": "2024-02-13T17:53:45.735958Z"
    }
   },
   "outputs": [
    {
     "data": {
      "text/plain": [
       "1.0"
      ]
     },
     "execution_count": 16,
     "metadata": {},
     "output_type": "execute_result"
    }
   ],
   "source": [
    "recall=TP/(FN+TP)\n",
    "recall"
   ]
  },
  {
   "cell_type": "code",
   "execution_count": 17,
   "id": "2625f316",
   "metadata": {
    "ExecuteTime": {
     "end_time": "2024-02-13T17:54:11.319795Z",
     "start_time": "2024-02-13T17:54:11.313795Z"
    }
   },
   "outputs": [
    {
     "data": {
      "text/plain": [
       "1.0"
      ]
     },
     "execution_count": 17,
     "metadata": {},
     "output_type": "execute_result"
    }
   ],
   "source": [
    "f1_score=2*precision*recall/(precision+recall)\n",
    "f1_score"
   ]
  },
  {
   "cell_type": "markdown",
   "id": "f2f4bdfa",
   "metadata": {},
   "source": [
    "# scikit-learn中封装实现"
   ]
  },
  {
   "cell_type": "code",
   "execution_count": 24,
   "id": "93474b5a",
   "metadata": {
    "ExecuteTime": {
     "end_time": "2024-02-13T17:56:32.263360Z",
     "start_time": "2024-02-13T17:56:32.249209Z"
    }
   },
   "outputs": [
    {
     "data": {
      "text/plain": [
       "array([[10,  0],\n",
       "       [ 0, 28]], dtype=int64)"
      ]
     },
     "execution_count": 24,
     "metadata": {},
     "output_type": "execute_result"
    }
   ],
   "source": [
    "from sklearn.metrics import confusion_matrix\n",
    "confusion_matrix(y_test,y_predict)"
   ]
  },
  {
   "cell_type": "code",
   "execution_count": 25,
   "id": "985e6b1d",
   "metadata": {
    "ExecuteTime": {
     "end_time": "2024-02-13T17:57:16.319298Z",
     "start_time": "2024-02-13T17:57:16.303931Z"
    }
   },
   "outputs": [
    {
     "data": {
      "text/plain": [
       "1.0"
      ]
     },
     "execution_count": 25,
     "metadata": {},
     "output_type": "execute_result"
    }
   ],
   "source": [
    "from sklearn.metrics import precision_score\n",
    "precision_score(y_test,y_predict)"
   ]
  },
  {
   "cell_type": "code",
   "execution_count": 26,
   "id": "0e12f4da",
   "metadata": {
    "ExecuteTime": {
     "end_time": "2024-02-13T17:57:45.980844Z",
     "start_time": "2024-02-13T17:57:45.969834Z"
    }
   },
   "outputs": [
    {
     "data": {
      "text/plain": [
       "1.0"
      ]
     },
     "execution_count": 26,
     "metadata": {},
     "output_type": "execute_result"
    }
   ],
   "source": [
    "from sklearn.metrics import recall_score\n",
    "recall_score(y_test,y_predict)"
   ]
  },
  {
   "cell_type": "code",
   "execution_count": 28,
   "id": "3f0dc111",
   "metadata": {
    "ExecuteTime": {
     "end_time": "2024-02-13T17:58:32.493175Z",
     "start_time": "2024-02-13T17:58:32.485658Z"
    }
   },
   "outputs": [
    {
     "data": {
      "text/plain": [
       "1.0"
      ]
     },
     "execution_count": 28,
     "metadata": {},
     "output_type": "execute_result"
    }
   ],
   "source": [
    "from sklearn.metrics import f1_score\n",
    "f1_score(y_test,y_predict)"
   ]
  }
 ],
 "metadata": {
  "kernelspec": {
   "display_name": "Python 3 (ipykernel)",
   "language": "python",
   "name": "python3"
  },
  "language_info": {
   "codemirror_mode": {
    "name": "ipython",
    "version": 3
   },
   "file_extension": ".py",
   "mimetype": "text/x-python",
   "name": "python",
   "nbconvert_exporter": "python",
   "pygments_lexer": "ipython3",
   "version": "3.11.5"
  },
  "toc": {
   "base_numbering": 1,
   "nav_menu": {},
   "number_sections": true,
   "sideBar": true,
   "skip_h1_title": false,
   "title_cell": "Table of Contents",
   "title_sidebar": "Contents",
   "toc_cell": false,
   "toc_position": {},
   "toc_section_display": true,
   "toc_window_display": false
  },
  "varInspector": {
   "cols": {
    "lenName": 16,
    "lenType": 16,
    "lenVar": 40
   },
   "kernels_config": {
    "python": {
     "delete_cmd_postfix": "",
     "delete_cmd_prefix": "del ",
     "library": "var_list.py",
     "varRefreshCmd": "print(var_dic_list())"
    },
    "r": {
     "delete_cmd_postfix": ") ",
     "delete_cmd_prefix": "rm(",
     "library": "var_list.r",
     "varRefreshCmd": "cat(var_dic_list()) "
    }
   },
   "types_to_exclude": [
    "module",
    "function",
    "builtin_function_or_method",
    "instance",
    "_Feature"
   ],
   "window_display": false
  }
 },
 "nbformat": 4,
 "nbformat_minor": 5
}
