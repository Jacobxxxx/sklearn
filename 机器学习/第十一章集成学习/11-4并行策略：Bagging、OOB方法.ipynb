{
 "cells": [
  {
   "cell_type": "markdown",
   "id": "11291c36",
   "metadata": {},
   "source": [
    "# 简单计算"
   ]
  },
  {
   "cell_type": "code",
   "execution_count": 1,
   "id": "c0918416",
   "metadata": {
    "ExecuteTime": {
     "end_time": "2024-02-22T08:43:17.795445Z",
     "start_time": "2024-02-22T08:42:59.758745Z"
    }
   },
   "outputs": [],
   "source": [
    "from scipy.special import comb"
   ]
  },
  {
   "cell_type": "code",
   "execution_count": 2,
   "id": "c98c9b5b",
   "metadata": {
    "ExecuteTime": {
     "end_time": "2024-02-22T08:43:17.809269Z",
     "start_time": "2024-02-22T08:43:17.800034Z"
    }
   },
   "outputs": [
    {
     "data": {
      "text/plain": [
       "(3.0, 10.0)"
      ]
     },
     "execution_count": 2,
     "metadata": {},
     "output_type": "execute_result"
    }
   ],
   "source": [
    "comb(3,2),comb(5,2)#组合式计算"
   ]
  },
  {
   "cell_type": "code",
   "execution_count": 3,
   "id": "5d13295b",
   "metadata": {
    "ExecuteTime": {
     "end_time": "2024-02-22T08:43:17.822587Z",
     "start_time": "2024-02-22T08:43:17.813261Z"
    }
   },
   "outputs": [
    {
     "data": {
      "text/plain": [
       "0.9973645966438958"
      ]
     },
     "execution_count": 3,
     "metadata": {},
     "output_type": "execute_result"
    }
   ],
   "source": [
    "v_sum=0\n",
    "for i in range(101,200+1,1):\n",
    "    v_sum+=(comb(200,i)*(0.6**i)*(0.4**(200-i)))\n",
    "v_sum"
   ]
  },
  {
   "cell_type": "code",
   "execution_count": 4,
   "id": "8da27877",
   "metadata": {
    "ExecuteTime": {
     "end_time": "2024-02-22T08:43:17.836127Z",
     "start_time": "2024-02-22T08:43:17.826580Z"
    }
   },
   "outputs": [
    {
     "data": {
      "text/plain": [
       "0.3276800000000001"
      ]
     },
     "execution_count": 4,
     "metadata": {},
     "output_type": "execute_result"
    }
   ],
   "source": [
    "n=5\n",
    "(1-1/n)**n"
   ]
  },
  {
   "cell_type": "code",
   "execution_count": 5,
   "id": "0270e5bc",
   "metadata": {
    "ExecuteTime": {
     "end_time": "2024-02-22T08:43:17.852649Z",
     "start_time": "2024-02-22T08:43:17.843113Z"
    }
   },
   "outputs": [
    {
     "data": {
      "text/plain": [
       "0.3678794043729165"
      ]
     },
     "execution_count": 5,
     "metadata": {},
     "output_type": "execute_result"
    }
   ],
   "source": [
    "n=5000000\n",
    "(1-1/n)**n"
   ]
  },
  {
   "cell_type": "markdown",
   "id": "1311ca5f",
   "metadata": {},
   "source": [
    "# 数据集 "
   ]
  },
  {
   "cell_type": "code",
   "execution_count": 6,
   "id": "93db4d17",
   "metadata": {
    "ExecuteTime": {
     "end_time": "2024-02-22T08:43:21.132456Z",
     "start_time": "2024-02-22T08:43:17.860643Z"
    }
   },
   "outputs": [],
   "source": [
    "import numpy as np\n",
    "import matplotlib.pyplot as plt"
   ]
  },
  {
   "cell_type": "code",
   "execution_count": null,
   "id": "b56a12f3",
   "metadata": {
    "ExecuteTime": {
     "start_time": "2024-02-22T08:42:59.740Z"
    }
   },
   "outputs": [],
   "source": [
    "from sklearn.datasets import make_moons\n",
    "x,y=make_moons(\n",
    "    n_samples=1000,\n",
    "    noise=0.4,\n",
    "    random_state=20\n",
    ")\n",
    "x.shape,y.shape"
   ]
  },
  {
   "cell_type": "code",
   "execution_count": null,
   "id": "aa4bc537",
   "metadata": {
    "ExecuteTime": {
     "start_time": "2024-02-22T08:42:59.741Z"
    }
   },
   "outputs": [],
   "source": [
    "plt.scatter(x[:,0],x[:,1],c=y,s=10)\n",
    "plt.show()"
   ]
  },
  {
   "cell_type": "code",
   "execution_count": null,
   "id": "e66b1611",
   "metadata": {
    "ExecuteTime": {
     "start_time": "2024-02-22T08:42:59.742Z"
    }
   },
   "outputs": [],
   "source": [
    "from sklearn.model_selection import train_test_split\n",
    "x_train,x_test,y_train,y_test=train_test_split(x,y,random_state=0)"
   ]
  },
  {
   "cell_type": "markdown",
   "id": "eaa965f1",
   "metadata": {},
   "source": [
    "# Bagging"
   ]
  },
  {
   "cell_type": "code",
   "execution_count": null,
   "id": "526443c0",
   "metadata": {
    "ExecuteTime": {
     "start_time": "2024-02-22T08:42:59.744Z"
    }
   },
   "outputs": [],
   "source": [
    "from sklearn.ensemble import BaggingClassifier\n",
    "from sklearn.tree import DecisionTreeClassifier\n",
    "import warnings\n",
    "warnings.filterwarnings(\"ignore\")"
   ]
  },
  {
   "cell_type": "code",
   "execution_count": null,
   "id": "838f2a93",
   "metadata": {
    "ExecuteTime": {
     "start_time": "2024-02-22T08:42:59.745Z"
    }
   },
   "outputs": [],
   "source": [
    "bagging=BaggingClassifier(\n",
    "    base_estimator=DecisionTreeClassifier(),#当前策略的基模型\n",
    "    n_estimators=100,#模型数量\n",
    "    bootstrap=True,#越高布尔值是否放回\n",
    "    max_samples=500,#每个模型取用的数量，即便是有放回也不能大于样本总数\n",
    "    n_jobs=-1,\n",
    "    random_state=20\n",
    ")\n",
    "bagging.fit(x_train,y_train)\n",
    "bagging.score(x_test,y_test)"
   ]
  },
  {
   "cell_type": "markdown",
   "id": "230f079f",
   "metadata": {},
   "source": [
    "# OOB"
   ]
  },
  {
   "cell_type": "code",
   "execution_count": null,
   "id": "570b0121",
   "metadata": {
    "ExecuteTime": {
     "start_time": "2024-02-22T08:42:59.747Z"
    }
   },
   "outputs": [],
   "source": [
    "bagging=BaggingClassifier(\n",
    "    base_estimator=DecisionTreeClassifier(),#当前策略的基模型\n",
    "    n_estimators=100,#模型数量\n",
    "    bootstrap=True,#越高布尔值是否放回\n",
    "    max_samples=500,#每个模型取用的数量，即便是有放回也不能大于样本总数\n",
    "    oob_score=True,#放回\n",
    "    n_jobs=-1,\n",
    "    random_state=20\n",
    ")\n",
    "bagging.fit(x,y)\n",
    "bagging.oob_score_"
   ]
  },
  {
   "cell_type": "markdown",
   "id": "82847584",
   "metadata": {},
   "source": [
    "# 参数是特征相关的"
   ]
  },
  {
   "cell_type": "code",
   "execution_count": null,
   "id": "13a59d18",
   "metadata": {
    "ExecuteTime": {
     "start_time": "2024-02-22T08:42:59.748Z"
    }
   },
   "outputs": [],
   "source": [
    "bagging=BaggingClassifier(\n",
    "    base_estimator=DecisionTreeClassifier(),#当前策略的基模型\n",
    "    n_estimators=100,#模型数量\n",
    "    bootstrap=True,#越高布尔值是否放回\n",
    "    max_samples=500,#每个模型取用的数量，即便是有放回也不能大于样本总数\n",
    "    oob_score=True,\n",
    "    bootstrap_features=True,#抽取特征有无放回\n",
    "    max_features=1,#每个分类器抽取多少个特征\n",
    "    n_jobs=-1,\n",
    "    random_state=20\n",
    ")\n",
    "bagging.fit(x_train,y_train)\n",
    "bagging.score(x_test,y_test)"
   ]
  }
 ],
 "metadata": {
  "kernelspec": {
   "display_name": "Python 3 (ipykernel)",
   "language": "python",
   "name": "python3"
  },
  "language_info": {
   "codemirror_mode": {
    "name": "ipython",
    "version": 3
   },
   "file_extension": ".py",
   "mimetype": "text/x-python",
   "name": "python",
   "nbconvert_exporter": "python",
   "pygments_lexer": "ipython3",
   "version": "3.11.5"
  },
  "toc": {
   "base_numbering": 1,
   "nav_menu": {},
   "number_sections": true,
   "sideBar": true,
   "skip_h1_title": false,
   "title_cell": "Table of Contents",
   "title_sidebar": "Contents",
   "toc_cell": false,
   "toc_position": {},
   "toc_section_display": true,
   "toc_window_display": false
  },
  "varInspector": {
   "cols": {
    "lenName": 16,
    "lenType": 16,
    "lenVar": 40
   },
   "kernels_config": {
    "python": {
     "delete_cmd_postfix": "",
     "delete_cmd_prefix": "del ",
     "library": "var_list.py",
     "varRefreshCmd": "print(var_dic_list())"
    },
    "r": {
     "delete_cmd_postfix": ") ",
     "delete_cmd_prefix": "rm(",
     "library": "var_list.r",
     "varRefreshCmd": "cat(var_dic_list()) "
    }
   },
   "types_to_exclude": [
    "module",
    "function",
    "builtin_function_or_method",
    "instance",
    "_Feature"
   ],
   "window_display": false
  }
 },
 "nbformat": 4,
 "nbformat_minor": 5
}
