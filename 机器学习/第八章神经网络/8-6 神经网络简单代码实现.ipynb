{
 "cells": [
  {
   "cell_type": "markdown",
   "id": "2d17e870",
   "metadata": {},
   "source": [
    "# 数据集"
   ]
  },
  {
   "cell_type": "code",
   "execution_count": 1,
   "id": "a40676c8",
   "metadata": {
    "ExecuteTime": {
     "end_time": "2024-02-15T16:38:15.150225Z",
     "start_time": "2024-02-15T16:38:14.559362Z"
    }
   },
   "outputs": [],
   "source": [
    "import numpy as np\n",
    "import matplotlib.pyplot as plt"
   ]
  },
  {
   "cell_type": "code",
   "execution_count": 2,
   "id": "12c08c7a",
   "metadata": {
    "ExecuteTime": {
     "end_time": "2024-02-15T16:38:15.157253Z",
     "start_time": "2024-02-15T16:38:15.153226Z"
    }
   },
   "outputs": [],
   "source": [
    "w,b=1.8,2.5"
   ]
  },
  {
   "cell_type": "code",
   "execution_count": 3,
   "id": "5e13a5a6",
   "metadata": {
    "ExecuteTime": {
     "end_time": "2024-02-15T16:38:15.165068Z",
     "start_time": "2024-02-15T16:38:15.159252Z"
    }
   },
   "outputs": [],
   "source": [
    "np.random.seed(0)\n",
    "x=np.random.rand(100)*4-2\n",
    "noise=np.random.randn(100)/3\n",
    "y=w*x+b+noise"
   ]
  },
  {
   "cell_type": "code",
   "execution_count": 4,
   "id": "57bfe479",
   "metadata": {
    "ExecuteTime": {
     "end_time": "2024-02-15T16:38:15.175552Z",
     "start_time": "2024-02-15T16:38:15.166068Z"
    }
   },
   "outputs": [
    {
     "data": {
      "text/plain": [
       "((100, 1), (100,))"
      ]
     },
     "execution_count": 4,
     "metadata": {},
     "output_type": "execute_result"
    }
   ],
   "source": [
    "x=x.reshape(-1,1)\n",
    "x.shape,y.shape"
   ]
  },
  {
   "cell_type": "code",
   "execution_count": 5,
   "id": "4ce58c61",
   "metadata": {
    "ExecuteTime": {
     "end_time": "2024-02-15T16:38:15.344432Z",
     "start_time": "2024-02-15T16:38:15.178546Z"
    }
   },
   "outputs": [
    {
     "data": {
      "image/png": "[encoded data removed]",
      "text/plain": [
       "<Figure size 640x480 with 1 Axes>"
      ]
     },
     "metadata": {},
     "output_type": "display_data"
    }
   ],
   "source": [
    "plt.scatter(x,y)\n",
    "plt.show()"
   ]
  },
  {
   "cell_type": "markdown",
   "id": "5f09c89d",
   "metadata": {},
   "source": [
    "# sklearn中的神经网络"
   ]
  },
  {
   "cell_type": "code",
   "execution_count": 6,
   "id": "1ae34141",
   "metadata": {
    "ExecuteTime": {
     "end_time": "2024-02-15T16:38:16.244412Z",
     "start_time": "2024-02-15T16:38:15.345433Z"
    }
   },
   "outputs": [],
   "source": [
    "from sklearn.neural_network import MLPRegressor"
   ]
  },
  {
   "cell_type": "code",
   "execution_count": 7,
   "id": "6c2d7066",
   "metadata": {
    "ExecuteTime": {
     "end_time": "2024-02-15T16:38:16.249784Z",
     "start_time": "2024-02-15T16:38:16.245418Z"
    }
   },
   "outputs": [],
   "source": [
    "reg=MLPRegressor(\n",
    "    hidden_layer_sizes=(1,),#sklearn神经网络默认含有一个带权重的输出层\n",
    "    activation='identity',#不用激活函数\n",
    "    learning_rate_init=0.01,#学习率\n",
    "    random_state=233\n",
    ")"
   ]
  },
  {
   "cell_type": "code",
   "execution_count": 8,
   "id": "f5a47d6c",
   "metadata": {
    "ExecuteTime": {
     "end_time": "2024-02-15T16:38:16.300922Z",
     "start_time": "2024-02-15T16:38:16.251783Z"
    }
   },
   "outputs": [
    {
     "data": {
      "text/html": [
       "<style>#sk-container-id-1 {color: black;}#sk-container-id-1 pre{padding: 0;}#sk-container-id-1 div.sk-toggleable {background-color: white;}#sk-container-id-1 label.sk-toggleable__label {cursor: pointer;display: block;width: 100%;margin-bottom: 0;padding: 0.3em;box-sizing: border-box;text-align: center;}#sk-container-id-1 label.sk-toggleable__label-arrow:before {content: \"▸\";float: left;margin-right: 0.25em;color: #696969;}#sk-container-id-1 label.sk-toggleable__label-arrow:hover:before {color: black;}#sk-container-id-1 div.sk-estimator:hover label.sk-toggleable__label-arrow:before {color: black;}#sk-container-id-1 div.sk-toggleable__content {max-height: 0;max-width: 0;overflow: hidden;text-align: left;background-color: #f0f8ff;}#sk-container-id-1 div.sk-toggleable__content pre {margin: 0.2em;color: black;border-radius: 0.25em;background-color: #f0f8ff;}#sk-container-id-1 input.sk-toggleable__control:checked~div.sk-toggleable__content {max-height: 200px;max-width: 100%;overflow: auto;}#sk-container-id-1 input.sk-toggleable__control:checked~label.sk-toggleable__label-arrow:before {content: \"▾\";}#sk-container-id-1 div.sk-estimator input.sk-toggleable__control:checked~label.sk-toggleable__label {background-color: #d4ebff;}#sk-container-id-1 div.sk-label input.sk-toggleable__control:checked~label.sk-toggleable__label {background-color: #d4ebff;}#sk-container-id-1 input.sk-hidden--visually {border: 0;clip: rect(1px 1px 1px 1px);clip: rect(1px, 1px, 1px, 1px);height: 1px;margin: -1px;overflow: hidden;padding: 0;position: absolute;width: 1px;}#sk-container-id-1 div.sk-estimator {font-family: monospace;background-color: #f0f8ff;border: 1px dotted black;border-radius: 0.25em;box-sizing: border-box;margin-bottom: 0.5em;}#sk-container-id-1 div.sk-estimator:hover {background-color: #d4ebff;}#sk-container-id-1 div.sk-parallel-item::after {content: \"\";width: 100%;border-bottom: 1px solid gray;flex-grow: 1;}#sk-container-id-1 div.sk-label:hover label.sk-toggleable__label {background-color: #d4ebff;}#sk-container-id-1 div.sk-serial::before {content: \"\";position: absolute;border-left: 1px solid gray;box-sizing: border-box;top: 0;bottom: 0;left: 50%;z-index: 0;}#sk-container-id-1 div.sk-serial {display: flex;flex-direction: column;align-items: center;background-color: white;padding-right: 0.2em;padding-left: 0.2em;position: relative;}#sk-container-id-1 div.sk-item {position: relative;z-index: 1;}#sk-container-id-1 div.sk-parallel {display: flex;align-items: stretch;justify-content: center;background-color: white;position: relative;}#sk-container-id-1 div.sk-item::before, #sk-container-id-1 div.sk-parallel-item::before {content: \"\";position: absolute;border-left: 1px solid gray;box-sizing: border-box;top: 0;bottom: 0;left: 50%;z-index: -1;}#sk-container-id-1 div.sk-parallel-item {display: flex;flex-direction: column;z-index: 1;position: relative;background-color: white;}#sk-container-id-1 div.sk-parallel-item:first-child::after {align-self: flex-end;width: 50%;}#sk-container-id-1 div.sk-parallel-item:last-child::after {align-self: flex-start;width: 50%;}#sk-container-id-1 div.sk-parallel-item:only-child::after {width: 0;}#sk-container-id-1 div.sk-dashed-wrapped {border: 1px dashed gray;margin: 0 0.4em 0.5em 0.4em;box-sizing: border-box;padding-bottom: 0.4em;background-color: white;}#sk-container-id-1 div.sk-label label {font-family: monospace;font-weight: bold;display: inline-block;line-height: 1.2em;}#sk-container-id-1 div.sk-label-container {text-align: center;}#sk-container-id-1 div.sk-container {/* jupyter's `normalize.less` sets `[hidden] { display: none; }` but bootstrap.min.css set `[hidden] { display: none !important; }` so we also need the `!important` here to be able to override the default hidden behavior on the sphinx rendered scikit-learn.org. See: https://github.com/scikit-learn/scikit-learn/issues/21755 */display: inline-block !important;position: relative;}#sk-container-id-1 div.sk-text-repr-fallback {display: none;}</style><div id=\"sk-container-id-1\" class=\"sk-top-container\"><div class=\"sk-text-repr-fallback\"><pre>MLPRegressor(activation=&#x27;identity&#x27;, hidden_layer_sizes=(1,),\n",
       "             learning_rate_init=0.01, random_state=233)</pre><b>In a Jupyter environment, please rerun this cell to show the HTML representation or trust the notebook. <br />On GitHub, the HTML representation is unable to render, please try loading this page with nbviewer.org.</b></div><div class=\"sk-container\" hidden><div class=\"sk-item\"><div class=\"sk-estimator sk-toggleable\"><input class=\"sk-toggleable__control sk-hidden--visually\" id=\"sk-estimator-id-1\" type=\"checkbox\" checked><label for=\"sk-estimator-id-1\" class=\"sk-toggleable__label sk-toggleable__label-arrow\">MLPRegressor</label><div class=\"sk-toggleable__content\"><pre>MLPRegressor(activation=&#x27;identity&#x27;, hidden_layer_sizes=(1,),\n",
       "             learning_rate_init=0.01, random_state=233)</pre></div></div></div></div></div>"
      ],
      "text/plain": [
       "MLPRegressor(activation='identity', hidden_layer_sizes=(1,),\n",
       "             learning_rate_init=0.01, random_state=233)"
      ]
     },
     "execution_count": 8,
     "metadata": {},
     "output_type": "execute_result"
    }
   ],
   "source": [
    "reg.fit(x,y)"
   ]
  },
  {
   "cell_type": "code",
   "execution_count": 9,
   "id": "8f1f6641",
   "metadata": {
    "ExecuteTime": {
     "end_time": "2024-02-15T16:38:16.310046Z",
     "start_time": "2024-02-15T16:38:16.302921Z"
    }
   },
   "outputs": [
    {
     "data": {
      "text/plain": [
       "0.974674992013746"
      ]
     },
     "execution_count": 9,
     "metadata": {},
     "output_type": "execute_result"
    }
   ],
   "source": [
    "reg.score(x,y)"
   ]
  },
  {
   "cell_type": "code",
   "execution_count": 10,
   "id": "a081fb12",
   "metadata": {
    "ExecuteTime": {
     "end_time": "2024-02-15T16:38:16.317627Z",
     "start_time": "2024-02-15T16:38:16.312045Z"
    }
   },
   "outputs": [],
   "source": [
    "y_predict=reg.predict(x)"
   ]
  },
  {
   "cell_type": "code",
   "execution_count": 11,
   "id": "6c4309ab",
   "metadata": {
    "ExecuteTime": {
     "end_time": "2024-02-15T16:38:16.459455Z",
     "start_time": "2024-02-15T16:38:16.320625Z"
    }
   },
   "outputs": [
    {
     "data": {
      "image/png": "[encoded data removed]",
      "text/plain": [
       "<Figure size 640x480 with 1 Axes>"
      ]
     },
     "metadata": {},
     "output_type": "display_data"
    }
   ],
   "source": [
    "plt.scatter(x,y)\n",
    "plt.plot(x,y_predict,c='r')\n",
    "plt.show()"
   ]
  },
  {
   "cell_type": "code",
   "execution_count": 12,
   "id": "9d7dad88",
   "metadata": {
    "ExecuteTime": {
     "end_time": "2024-02-15T16:38:16.469338Z",
     "start_time": "2024-02-15T16:38:16.461452Z"
    }
   },
   "outputs": [
    {
     "name": "stdout",
     "output_type": "stream",
     "text": [
      "-2.0230772887975506 -0.8994147672147477 0.20843202333485145 2.7673419504355397\n"
     ]
    }
   ],
   "source": [
    "w1,w2=np.array(reg.coefs_).reshape(-1)\n",
    "b1,b2=np.array(reg.intercepts_).reshape(-1)\n",
    "print(w1,w2,b1,b2)"
   ]
  },
  {
   "cell_type": "code",
   "execution_count": 13,
   "id": "40f0fbad",
   "metadata": {
    "ExecuteTime": {
     "end_time": "2024-02-15T16:38:16.476896Z",
     "start_time": "2024-02-15T16:38:16.471336Z"
    }
   },
   "outputs": [
    {
     "data": {
      "text/plain": [
       "(1.8195855887612917, 2.5798751106877256)"
      ]
     },
     "execution_count": 13,
     "metadata": {},
     "output_type": "execute_result"
    }
   ],
   "source": [
    "w1*w2,w2*b1+b2"
   ]
  },
  {
   "cell_type": "markdown",
   "id": "68874bc2",
   "metadata": {},
   "source": [
    "# 反向传播权重更新"
   ]
  },
  {
   "cell_type": "code",
   "execution_count": 14,
   "id": "a0910172",
   "metadata": {
    "ExecuteTime": {
     "end_time": "2024-02-15T16:38:16.489800Z",
     "start_time": "2024-02-15T16:38:16.482884Z"
    }
   },
   "outputs": [
    {
     "data": {
      "text/plain": [
       "(-0.35399391125348395,\n",
       " -1.3749512934180188,\n",
       " -0.6436184028328905,\n",
       " -2.2234031522244266)"
      ]
     },
     "execution_count": 14,
     "metadata": {},
     "output_type": "execute_result"
    }
   ],
   "source": [
    "w1,b1,w2,b2=np.random.randn(4)\n",
    "w1,b1,w2,b2"
   ]
  },
  {
   "cell_type": "code",
   "execution_count": 15,
   "id": "600434a3",
   "metadata": {
    "ExecuteTime": {
     "end_time": "2024-02-15T16:38:16.496831Z",
     "start_time": "2024-02-15T16:38:16.492802Z"
    }
   },
   "outputs": [],
   "source": [
    "y_real=y.reshape(-1,1)\n",
    "ir=0.01"
   ]
  },
  {
   "cell_type": "code",
   "execution_count": 17,
   "id": "eaaf70e6",
   "metadata": {
    "ExecuteTime": {
     "end_time": "2024-02-15T16:40:32.691613Z",
     "start_time": "2024-02-15T16:40:32.671917Z"
    }
   },
   "outputs": [
    {
     "name": "stdout",
     "output_type": "stream",
     "text": [
      "-0.920048111160913 -2.129151142706114 -1.9506882720836392 -1.589763076793559\n"
     ]
    }
   ],
   "source": [
    "for i in range(100):\n",
    "    y1=w1*x+b1\n",
    "    y_predict=w2*y1+b2\n",
    "    loss=((y_real-y_predict)**2)/2\n",
    "    \n",
    "    dy=y_predict-y_real\n",
    "    dy1=dy*w2\n",
    "    \n",
    "    dw1=np.mean(x*dy1)\n",
    "    dw2=np.mean(y1*dy)\n",
    "    db1=np.mean(dy1)\n",
    "    db2=np.mean(dy)\n",
    "    \n",
    "    w1-=ir*dw1\n",
    "    w2-=ir*dw2\n",
    "    b1-=ir*db1\n",
    "    b2-=ir*db2\n",
    "    \n",
    "print(w1,b1,w2,b2)"
   ]
  },
  {
   "cell_type": "code",
   "execution_count": 18,
   "id": "8bcbcfa3",
   "metadata": {
    "ExecuteTime": {
     "end_time": "2024-02-15T16:41:14.318747Z",
     "start_time": "2024-02-15T16:41:14.314961Z"
    }
   },
   "outputs": [],
   "source": [
    "y_predict=w2*(w1*x+b1)+b2"
   ]
  },
  {
   "cell_type": "code",
   "execution_count": 19,
   "id": "b7a5cb2f",
   "metadata": {
    "ExecuteTime": {
     "end_time": "2024-02-15T16:41:40.001411Z",
     "start_time": "2024-02-15T16:41:39.870532Z"
    }
   },
   "outputs": [
    {
     "data": {
      "image/png": "[encoded data removed]",
      "text/plain": [
       "<Figure size 640x480 with 1 Axes>"
      ]
     },
     "metadata": {},
     "output_type": "display_data"
    }
   ],
   "source": [
    "plt.scatter(x,y)\n",
    "plt.plot(x,y_predict,c='r')\n",
    "plt.show()"
   ]
  },
  {
   "cell_type": "code",
   "execution_count": 21,
   "id": "59357f7b",
   "metadata": {
    "ExecuteTime": {
     "end_time": "2024-02-15T16:42:09.347408Z",
     "start_time": "2024-02-15T16:42:09.341502Z"
    }
   },
   "outputs": [
    {
     "data": {
      "text/plain": [
       "(1.7947270601942973, 2.5635470867767363)"
      ]
     },
     "execution_count": 21,
     "metadata": {},
     "output_type": "execute_result"
    }
   ],
   "source": [
    "w1*w2,w2*b1+b2"
   ]
  }
 ],
 "metadata": {
  "kernelspec": {
   "display_name": "Python 3 (ipykernel)",
   "language": "python",
   "name": "python3"
  },
  "language_info": {
   "codemirror_mode": {
    "name": "ipython",
    "version": 3
   },
   "file_extension": ".py",
   "mimetype": "text/x-python",
   "name": "python",
   "nbconvert_exporter": "python",
   "pygments_lexer": "ipython3",
   "version": "3.11.5"
  },
  "toc": {
   "base_numbering": 1,
   "nav_menu": {},
   "number_sections": true,
   "sideBar": true,
   "skip_h1_title": false,
   "title_cell": "Table of Contents",
   "title_sidebar": "Contents",
   "toc_cell": false,
   "toc_position": {},
   "toc_section_display": true,
   "toc_window_display": false
  },
  "varInspector": {
   "cols": {
    "lenName": 16,
    "lenType": 16,
    "lenVar": 40
   },
   "kernels_config": {
    "python": {
     "delete_cmd_postfix": "",
     "delete_cmd_prefix": "del ",
     "library": "var_list.py",
     "varRefreshCmd": "print(var_dic_list())"
    },
    "r": {
     "delete_cmd_postfix": ") ",
     "delete_cmd_prefix": "rm(",
     "library": "var_list.r",
     "varRefreshCmd": "cat(var_dic_list()) "
    }
   },
   "types_to_exclude": [
    "module",
    "function",
    "builtin_function_or_method",
    "instance",
    "_Feature"
   ],
   "window_display": false
  }
 },
 "nbformat": 4,
 "nbformat_minor": 5
}
