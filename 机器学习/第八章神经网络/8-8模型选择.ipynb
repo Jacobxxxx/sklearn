{
 "cells": [
  {
   "cell_type": "markdown",
   "id": "f184484d",
   "metadata": {},
   "source": [
    "# 不同模型的比较"
   ]
  },
  {
   "cell_type": "code",
   "execution_count": 1,
   "id": "f710c65b",
   "metadata": {
    "ExecuteTime": {
     "end_time": "2024-02-15T17:06:30.614600Z",
     "start_time": "2024-02-15T17:06:30.324138Z"
    }
   },
   "outputs": [],
   "source": [
    "from sklearn import datasets\n",
    "import warnings\n",
    "warnings.filterwarnings(\"ignore\")"
   ]
  },
  {
   "cell_type": "code",
   "execution_count": 3,
   "id": "33978d7f",
   "metadata": {
    "ExecuteTime": {
     "end_time": "2024-02-15T17:13:20.356008Z",
     "start_time": "2024-02-15T17:13:20.349026Z"
    }
   },
   "outputs": [],
   "source": [
    "import numpy as np\n",
    "from sklearn.neighbors import KNeighborsClassifier\n",
    "from sklearn.tree import DecisionTreeClassifier\n",
    "from sklearn.linear_model import LogisticRegression\n",
    "from sklearn.preprocessing import PolynomialFeatures\n",
    "from sklearn.pipeline import Pipeline\n",
    "from sklearn.preprocessing import StandardScaler\n",
    "from sklearn.model_selection import cross_val_score\n",
    "\n",
    "def model_selection(x,y,cv):\n",
    "    knn=KNeighborsClassifier(n_neighbors=3)\n",
    "    dt=DecisionTreeClassifier(max_depth=5)\n",
    "    lr=Pipeline([\n",
    "        ('poly',PolynomialFeatures(degree=2)),\n",
    "        ('log_reg',LogisticRegression())\n",
    "    ])\n",
    "    \n",
    "    print('knn_score:%f, dt_score:%f, lr_score:%f'%(\n",
    "        np.mean(cross_val_score(knn,x,y,cv=5)),\n",
    "        np.mean(cross_val_score(lr,x,y,cv=5)),\n",
    "        np.mean(cross_val_score(dt,x,y,cv=5))))"
   ]
  },
  {
   "cell_type": "code",
   "execution_count": 4,
   "id": "26e51ffc",
   "metadata": {
    "ExecuteTime": {
     "end_time": "2024-02-15T17:14:46.022439Z",
     "start_time": "2024-02-15T17:14:45.831146Z"
    }
   },
   "outputs": [
    {
     "name": "stdout",
     "output_type": "stream",
     "text": [
      "knn_score:0.966667, dt_score:0.980000, lr_score:0.966667\n"
     ]
    }
   ],
   "source": [
    "dataset=datasets.load_iris()\n",
    "x=dataset.data\n",
    "y=dataset.target\n",
    "cv=5\n",
    "model_selection(x,y,cv)"
   ]
  },
  {
   "cell_type": "code",
   "execution_count": 7,
   "id": "668730d4",
   "metadata": {
    "ExecuteTime": {
     "end_time": "2024-02-15T17:17:14.011424Z",
     "start_time": "2024-02-15T17:17:13.987458Z"
    }
   },
   "outputs": [
    {
     "name": "stdout",
     "output_type": "stream",
     "text": [
      ".. _digits_dataset:\n",
      "\n",
      "Optical recognition of handwritten digits dataset\n",
      "--------------------------------------------------\n",
      "\n",
      "**Data Set Characteristics:**\n",
      "\n",
      "    :Number of Instances: 1797\n",
      "    :Number of Attributes: 64\n",
      "    :Attribute Information: 8x8 image of integer pixels in the range 0..16.\n",
      "    :Missing Attribute Values: None\n",
      "    :Creator: E. Alpaydin (alpaydin '@' boun.edu.tr)\n",
      "    :Date: July; 1998\n",
      "\n",
      "This is a copy of the test set of the UCI ML hand-written digits datasets\n",
      "https://archive.ics.uci.edu/ml/datasets/Optical+Recognition+of+Handwritten+Digits\n",
      "\n",
      "The data set contains images of hand-written digits: 10 classes where\n",
      "each class refers to a digit.\n",
      "\n",
      "Preprocessing programs made available by NIST were used to extract\n",
      "normalized bitmaps of handwritten digits from a preprinted form. From a\n",
      "total of 43 people, 30 contributed to the training set and different 13\n",
      "to the test set. 32x32 bitmaps are divided into nonoverlapping blocks of\n",
      "4x4 and the number of on pixels are counted in each block. This generates\n",
      "an input matrix of 8x8 where each element is an integer in the range\n",
      "0..16. This reduces dimensionality and gives invariance to small\n",
      "distortions.\n",
      "\n",
      "For info on NIST preprocessing routines, see M. D. Garris, J. L. Blue, G.\n",
      "T. Candela, D. L. Dimmick, J. Geist, P. J. Grother, S. A. Janet, and C.\n",
      "L. Wilson, NIST Form-Based Handprint Recognition System, NISTIR 5469,\n",
      "1994.\n",
      "\n",
      ".. topic:: References\n",
      "\n",
      "  - C. Kaynak (1995) Methods of Combining Multiple Classifiers and Their\n",
      "    Applications to Handwritten Digit Recognition, MSc Thesis, Institute of\n",
      "    Graduate Studies in Science and Engineering, Bogazici University.\n",
      "  - E. Alpaydin, C. Kaynak (1998) Cascading Classifiers, Kybernetika.\n",
      "  - Ken Tang and Ponnuthurai N. Suganthan and Xi Yao and A. Kai Qin.\n",
      "    Linear dimensionalityreduction using relevance weighted LDA. School of\n",
      "    Electrical and Electronic Engineering Nanyang Technological University.\n",
      "    2005.\n",
      "  - Claudio Gentile. A New Approximate Maximal Margin Classification\n",
      "    Algorithm. NIPS. 2000.\n",
      "\n"
     ]
    }
   ],
   "source": [
    "dataset=datasets.load_digits()\n",
    "print(dataset.DESCR)"
   ]
  },
  {
   "cell_type": "code",
   "execution_count": 8,
   "id": "8046c82b",
   "metadata": {
    "ExecuteTime": {
     "end_time": "2024-02-15T17:17:20.877687Z",
     "start_time": "2024-02-15T17:17:16.101532Z"
    }
   },
   "outputs": [
    {
     "name": "stdout",
     "output_type": "stream",
     "text": [
      "knn_score:0.966622, dt_score:0.948822, lr_score:0.630573\n"
     ]
    }
   ],
   "source": [
    "x=dataset.data\n",
    "y=dataset.target\n",
    "cv=5\n",
    "model_selection(x,y,cv)"
   ]
  },
  {
   "cell_type": "markdown",
   "id": "0e883e7c",
   "metadata": {},
   "source": [
    "## 简单神经网络效果"
   ]
  },
  {
   "cell_type": "code",
   "execution_count": 9,
   "id": "2366174e",
   "metadata": {
    "ExecuteTime": {
     "end_time": "2024-02-15T17:19:38.173525Z",
     "start_time": "2024-02-15T17:19:38.169113Z"
    }
   },
   "outputs": [],
   "source": [
    "from sklearn.neural_network import MLPClassifier"
   ]
  },
  {
   "cell_type": "code",
   "execution_count": 10,
   "id": "e70a97f1",
   "metadata": {
    "ExecuteTime": {
     "end_time": "2024-02-15T17:20:32.085569Z",
     "start_time": "2024-02-15T17:20:29.163574Z"
    }
   },
   "outputs": [
    {
     "data": {
      "text/plain": [
       "0.42405756731662014"
      ]
     },
     "execution_count": 10,
     "metadata": {},
     "output_type": "execute_result"
    }
   ],
   "source": [
    "nn=MLPClassifier(\n",
    "    hidden_layer_sizes=(1,),\n",
    "    activation='identity',\n",
    "    learning_rate_init=0.01,\n",
    "    random_state=233\n",
    ")\n",
    "np.mean(cross_val_score(nn,x,y,cv=5))"
   ]
  },
  {
   "cell_type": "markdown",
   "id": "e808a50b",
   "metadata": {},
   "source": [
    "# 神经网络模型的选择"
   ]
  },
  {
   "cell_type": "code",
   "execution_count": 11,
   "id": "30069ba2",
   "metadata": {
    "ExecuteTime": {
     "end_time": "2024-02-15T17:21:30.455696Z",
     "start_time": "2024-02-15T17:21:27.895955Z"
    }
   },
   "outputs": [
    {
     "data": {
      "text/plain": [
       "0.8809300526152894"
      ]
     },
     "execution_count": 11,
     "metadata": {},
     "output_type": "execute_result"
    }
   ],
   "source": [
    "nn=MLPClassifier(\n",
    "    hidden_layer_sizes=(5,),#默认值为100\n",
    "    activation='identity',#relu,sigmoid\n",
    "    learning_rate_init=0.01,\n",
    "    random_state=233\n",
    ")\n",
    "np.mean(cross_val_score(nn,x,y,cv=5))"
   ]
  },
  {
   "cell_type": "code",
   "execution_count": 12,
   "id": "87426699",
   "metadata": {
    "ExecuteTime": {
     "end_time": "2024-02-15T17:22:40.872129Z",
     "start_time": "2024-02-15T17:22:39.062730Z"
    }
   },
   "outputs": [
    {
     "data": {
      "text/plain": [
       "0.9176539770968741"
      ]
     },
     "execution_count": 12,
     "metadata": {},
     "output_type": "execute_result"
    }
   ],
   "source": [
    "nn=MLPClassifier(\n",
    "    hidden_layer_sizes=(100,),#意义为(神经元个数，中间节点数目，隐藏层层数)默认值为100\n",
    "    activation='identity',#relu,sigmoid\n",
    "    learning_rate_init=0.01,\n",
    "    random_state=233\n",
    ")\n",
    "np.mean(cross_val_score(nn,x,y,cv=5))"
   ]
  },
  {
   "cell_type": "code",
   "execution_count": 13,
   "id": "bba15e52",
   "metadata": {
    "ExecuteTime": {
     "end_time": "2024-02-15T17:22:55.823078Z",
     "start_time": "2024-02-15T17:22:54.079202Z"
    }
   },
   "outputs": [
    {
     "data": {
      "text/plain": [
       "0.9371402042711235"
      ]
     },
     "execution_count": 13,
     "metadata": {},
     "output_type": "execute_result"
    }
   ],
   "source": [
    "nn=MLPClassifier(\n",
    "    hidden_layer_sizes=(100,),#默认值为100\n",
    "    activation='relu',#relu,sigmoid\n",
    "    learning_rate_init=0.01,\n",
    "    random_state=233\n",
    ")\n",
    "np.mean(cross_val_score(nn,x,y,cv=5))"
   ]
  },
  {
   "cell_type": "code",
   "execution_count": 14,
   "id": "080ca71c",
   "metadata": {
    "ExecuteTime": {
     "end_time": "2024-02-15T17:23:56.282071Z",
     "start_time": "2024-02-15T17:23:54.442450Z"
    }
   },
   "outputs": [
    {
     "data": {
      "text/plain": [
       "0.943237387805633"
      ]
     },
     "execution_count": 14,
     "metadata": {},
     "output_type": "execute_result"
    }
   ],
   "source": [
    "nn=MLPClassifier(\n",
    "    hidden_layer_sizes=(100,100),#默认值为100\n",
    "    activation='relu',#relu,sigmoid\n",
    "    learning_rate_init=0.01,\n",
    "    random_state=233\n",
    ")\n",
    "np.mean(cross_val_score(nn,x,y,cv=5))"
   ]
  },
  {
   "cell_type": "code",
   "execution_count": 16,
   "id": "c5cc313c",
   "metadata": {
    "ExecuteTime": {
     "end_time": "2024-02-15T17:24:53.549609Z",
     "start_time": "2024-02-15T17:24:51.407248Z"
    }
   },
   "outputs": [
    {
     "data": {
      "text/plain": [
       "0.948811513463324"
      ]
     },
     "execution_count": 16,
     "metadata": {},
     "output_type": "execute_result"
    }
   ],
   "source": [
    "nn=MLPClassifier(\n",
    "    hidden_layer_sizes=(100,50,100),#默认值为100\n",
    "    activation='relu',#relu,sigmoid\n",
    "    learning_rate_init=0.01,\n",
    "    random_state=233\n",
    ")\n",
    "np.mean(cross_val_score(nn,x,y,cv=5))"
   ]
  },
  {
   "cell_type": "code",
   "execution_count": 18,
   "id": "c8927188",
   "metadata": {
    "ExecuteTime": {
     "end_time": "2024-02-15T17:25:58.038345Z",
     "start_time": "2024-02-15T17:25:54.177453Z"
    }
   },
   "outputs": [
    {
     "data": {
      "text/plain": [
       "0.9443593314763232"
      ]
     },
     "execution_count": 18,
     "metadata": {},
     "output_type": "execute_result"
    }
   ],
   "source": [
    "nn=MLPClassifier(\n",
    "    hidden_layer_sizes=(100,50,100),#默认值为100\n",
    "    activation='relu',#relu,sigmoid\n",
    "    learning_rate_init=0.01,\n",
    "    random_state=233,\n",
    "    solver='sgd'#配置优化器\n",
    ")\n",
    "np.mean(cross_val_score(nn,x,y,cv=5))"
   ]
  },
  {
   "cell_type": "markdown",
   "id": "4bd73083",
   "metadata": {},
   "source": [
    "### 层数过多梯度消失"
   ]
  },
  {
   "cell_type": "code",
   "execution_count": 19,
   "id": "fccd9ac6",
   "metadata": {
    "ExecuteTime": {
     "end_time": "2024-02-15T17:26:41.447898Z",
     "start_time": "2024-02-15T17:26:34.606919Z"
    }
   },
   "outputs": [
    {
     "data": {
      "text/plain": [
       "0.8787852058186321"
      ]
     },
     "execution_count": 19,
     "metadata": {},
     "output_type": "execute_result"
    }
   ],
   "source": [
    "nn=MLPClassifier(\n",
    "    hidden_layer_sizes=(100,50,100,100,50,100,100,50,100),#默认值为100\n",
    "    activation='relu',#relu,sigmoid\n",
    "    learning_rate_init=0.01,\n",
    "    random_state=233\n",
    ")\n",
    "np.mean(cross_val_score(nn,x,y,cv=5))"
   ]
  }
 ],
 "metadata": {
  "kernelspec": {
   "display_name": "Python 3 (ipykernel)",
   "language": "python",
   "name": "python3"
  },
  "language_info": {
   "codemirror_mode": {
    "name": "ipython",
    "version": 3
   },
   "file_extension": ".py",
   "mimetype": "text/x-python",
   "name": "python",
   "nbconvert_exporter": "python",
   "pygments_lexer": "ipython3",
   "version": "3.11.5"
  },
  "toc": {
   "base_numbering": 1,
   "nav_menu": {},
   "number_sections": true,
   "sideBar": true,
   "skip_h1_title": false,
   "title_cell": "Table of Contents",
   "title_sidebar": "Contents",
   "toc_cell": false,
   "toc_position": {},
   "toc_section_display": true,
   "toc_window_display": false
  },
  "varInspector": {
   "cols": {
    "lenName": 16,
    "lenType": 16,
    "lenVar": 40
   },
   "kernels_config": {
    "python": {
     "delete_cmd_postfix": "",
     "delete_cmd_prefix": "del ",
     "library": "var_list.py",
     "varRefreshCmd": "print(var_dic_list())"
    },
    "r": {
     "delete_cmd_postfix": ") ",
     "delete_cmd_prefix": "rm(",
     "library": "var_list.r",
     "varRefreshCmd": "cat(var_dic_list()) "
    }
   },
   "types_to_exclude": [
    "module",
    "function",
    "builtin_function_or_method",
    "instance",
    "_Feature"
   ],
   "window_display": false
  }
 },
 "nbformat": 4,
 "nbformat_minor": 5
}
