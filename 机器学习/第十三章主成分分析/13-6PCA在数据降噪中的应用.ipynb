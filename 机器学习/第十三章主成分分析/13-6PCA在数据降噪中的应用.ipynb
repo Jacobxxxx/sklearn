{
 "cells": [
  {
   "cell_type": "markdown",
   "id": "ab6d48d5",
   "metadata": {},
   "source": [
    "# 数据集"
   ]
  },
  {
   "cell_type": "code",
   "execution_count": 1,
   "id": "c389de0e",
   "metadata": {
    "ExecuteTime": {
     "end_time": "2024-02-27T11:12:34.410688Z",
     "start_time": "2024-02-27T11:12:33.420774Z"
    }
   },
   "outputs": [],
   "source": [
    "import numpy as np\n",
    "import matplotlib.pyplot as plt\n",
    "import warnings\n",
    "warnings.filterwarnings(\"ignore\")"
   ]
  },
  {
   "cell_type": "code",
   "execution_count": 2,
   "id": "c52882d1",
   "metadata": {
    "ExecuteTime": {
     "end_time": "2024-02-27T11:12:42.001903Z",
     "start_time": "2024-02-27T11:12:41.996628Z"
    }
   },
   "outputs": [],
   "source": [
    "w,b=1.8,2.5"
   ]
  },
  {
   "cell_type": "code",
   "execution_count": 3,
   "id": "c5d84849",
   "metadata": {
    "ExecuteTime": {
     "end_time": "2024-02-27T11:13:50.844469Z",
     "start_time": "2024-02-27T11:13:50.830075Z"
    }
   },
   "outputs": [],
   "source": [
    "np.random.seed(0)\n",
    "x1=np.random.rand(100)*4\n",
    "noise=np.random.randn(100)\n",
    "x2=w*x1+b+noise"
   ]
  },
  {
   "cell_type": "code",
   "execution_count": 4,
   "id": "a1d7c569",
   "metadata": {
    "ExecuteTime": {
     "end_time": "2024-02-27T11:14:58.759351Z",
     "start_time": "2024-02-27T11:14:58.751206Z"
    }
   },
   "outputs": [
    {
     "data": {
      "text/plain": [
       "(100, 2)"
      ]
     },
     "execution_count": 4,
     "metadata": {},
     "output_type": "execute_result"
    }
   ],
   "source": [
    "x=np.vstack([x1,x2]).T\n",
    "x-=np.mean(x,axis=0)\n",
    "x.shape"
   ]
  },
  {
   "cell_type": "code",
   "execution_count": 5,
   "id": "bc9fe91a",
   "metadata": {
    "ExecuteTime": {
     "end_time": "2024-02-27T11:15:22.143359Z",
     "start_time": "2024-02-27T11:15:21.774780Z"
    }
   },
   "outputs": [
    {
     "data": {
      "image/png": "[encoded data removed]",
      "text/plain": [
       "<Figure size 640x480 with 1 Axes>"
      ]
     },
     "metadata": {},
     "output_type": "display_data"
    }
   ],
   "source": [
    "plt.scatter(x[:,0],x[:,1])\n",
    "plt.show()"
   ]
  },
  {
   "cell_type": "markdown",
   "id": "a67bd083",
   "metadata": {},
   "source": [
    "# PCA"
   ]
  },
  {
   "cell_type": "code",
   "execution_count": 6,
   "id": "fd299b33",
   "metadata": {
    "ExecuteTime": {
     "end_time": "2024-02-27T11:17:15.688017Z",
     "start_time": "2024-02-27T11:17:15.683441Z"
    }
   },
   "outputs": [],
   "source": [
    "from sklearn.decomposition import PCA"
   ]
  },
  {
   "cell_type": "code",
   "execution_count": 7,
   "id": "08ceee0a",
   "metadata": {
    "ExecuteTime": {
     "end_time": "2024-02-27T11:17:40.046361Z",
     "start_time": "2024-02-27T11:17:40.005012Z"
    }
   },
   "outputs": [
    {
     "data": {
      "text/html": [
       "<style>#sk-container-id-1 {color: black;}#sk-container-id-1 pre{padding: 0;}#sk-container-id-1 div.sk-toggleable {background-color: white;}#sk-container-id-1 label.sk-toggleable__label {cursor: pointer;display: block;width: 100%;margin-bottom: 0;padding: 0.3em;box-sizing: border-box;text-align: center;}#sk-container-id-1 label.sk-toggleable__label-arrow:before {content: \"▸\";float: left;margin-right: 0.25em;color: #696969;}#sk-container-id-1 label.sk-toggleable__label-arrow:hover:before {color: black;}#sk-container-id-1 div.sk-estimator:hover label.sk-toggleable__label-arrow:before {color: black;}#sk-container-id-1 div.sk-toggleable__content {max-height: 0;max-width: 0;overflow: hidden;text-align: left;background-color: #f0f8ff;}#sk-container-id-1 div.sk-toggleable__content pre {margin: 0.2em;color: black;border-radius: 0.25em;background-color: #f0f8ff;}#sk-container-id-1 input.sk-toggleable__control:checked~div.sk-toggleable__content {max-height: 200px;max-width: 100%;overflow: auto;}#sk-container-id-1 input.sk-toggleable__control:checked~label.sk-toggleable__label-arrow:before {content: \"▾\";}#sk-container-id-1 div.sk-estimator input.sk-toggleable__control:checked~label.sk-toggleable__label {background-color: #d4ebff;}#sk-container-id-1 div.sk-label input.sk-toggleable__control:checked~label.sk-toggleable__label {background-color: #d4ebff;}#sk-container-id-1 input.sk-hidden--visually {border: 0;clip: rect(1px 1px 1px 1px);clip: rect(1px, 1px, 1px, 1px);height: 1px;margin: -1px;overflow: hidden;padding: 0;position: absolute;width: 1px;}#sk-container-id-1 div.sk-estimator {font-family: monospace;background-color: #f0f8ff;border: 1px dotted black;border-radius: 0.25em;box-sizing: border-box;margin-bottom: 0.5em;}#sk-container-id-1 div.sk-estimator:hover {background-color: #d4ebff;}#sk-container-id-1 div.sk-parallel-item::after {content: \"\";width: 100%;border-bottom: 1px solid gray;flex-grow: 1;}#sk-container-id-1 div.sk-label:hover label.sk-toggleable__label {background-color: #d4ebff;}#sk-container-id-1 div.sk-serial::before {content: \"\";position: absolute;border-left: 1px solid gray;box-sizing: border-box;top: 0;bottom: 0;left: 50%;z-index: 0;}#sk-container-id-1 div.sk-serial {display: flex;flex-direction: column;align-items: center;background-color: white;padding-right: 0.2em;padding-left: 0.2em;position: relative;}#sk-container-id-1 div.sk-item {position: relative;z-index: 1;}#sk-container-id-1 div.sk-parallel {display: flex;align-items: stretch;justify-content: center;background-color: white;position: relative;}#sk-container-id-1 div.sk-item::before, #sk-container-id-1 div.sk-parallel-item::before {content: \"\";position: absolute;border-left: 1px solid gray;box-sizing: border-box;top: 0;bottom: 0;left: 50%;z-index: -1;}#sk-container-id-1 div.sk-parallel-item {display: flex;flex-direction: column;z-index: 1;position: relative;background-color: white;}#sk-container-id-1 div.sk-parallel-item:first-child::after {align-self: flex-end;width: 50%;}#sk-container-id-1 div.sk-parallel-item:last-child::after {align-self: flex-start;width: 50%;}#sk-container-id-1 div.sk-parallel-item:only-child::after {width: 0;}#sk-container-id-1 div.sk-dashed-wrapped {border: 1px dashed gray;margin: 0 0.4em 0.5em 0.4em;box-sizing: border-box;padding-bottom: 0.4em;background-color: white;}#sk-container-id-1 div.sk-label label {font-family: monospace;font-weight: bold;display: inline-block;line-height: 1.2em;}#sk-container-id-1 div.sk-label-container {text-align: center;}#sk-container-id-1 div.sk-container {/* jupyter's `normalize.less` sets `[hidden] { display: none; }` but bootstrap.min.css set `[hidden] { display: none !important; }` so we also need the `!important` here to be able to override the default hidden behavior on the sphinx rendered scikit-learn.org. See: https://github.com/scikit-learn/scikit-learn/issues/21755 */display: inline-block !important;position: relative;}#sk-container-id-1 div.sk-text-repr-fallback {display: none;}</style><div id=\"sk-container-id-1\" class=\"sk-top-container\"><div class=\"sk-text-repr-fallback\"><pre>PCA(n_components=1)</pre><b>In a Jupyter environment, please rerun this cell to show the HTML representation or trust the notebook. <br />On GitHub, the HTML representation is unable to render, please try loading this page with nbviewer.org.</b></div><div class=\"sk-container\" hidden><div class=\"sk-item\"><div class=\"sk-estimator sk-toggleable\"><input class=\"sk-toggleable__control sk-hidden--visually\" id=\"sk-estimator-id-1\" type=\"checkbox\" checked><label for=\"sk-estimator-id-1\" class=\"sk-toggleable__label sk-toggleable__label-arrow\">PCA</label><div class=\"sk-toggleable__content\"><pre>PCA(n_components=1)</pre></div></div></div></div></div>"
      ],
      "text/plain": [
       "PCA(n_components=1)"
      ]
     },
     "execution_count": 7,
     "metadata": {},
     "output_type": "execute_result"
    }
   ],
   "source": [
    "pca=PCA(n_components=1)\n",
    "pca.fit(x)"
   ]
  },
  {
   "cell_type": "code",
   "execution_count": 8,
   "id": "6be3e64b",
   "metadata": {
    "ExecuteTime": {
     "end_time": "2024-02-27T11:18:17.240477Z",
     "start_time": "2024-02-27T11:18:17.225016Z"
    }
   },
   "outputs": [],
   "source": [
    "x_pca=pca.transform(x)\n",
    "x_pca_inv=pca.inverse_transform(x_pca)"
   ]
  },
  {
   "cell_type": "code",
   "execution_count": 9,
   "id": "b0484561",
   "metadata": {
    "ExecuteTime": {
     "end_time": "2024-02-27T11:19:19.591283Z",
     "start_time": "2024-02-27T11:19:19.478401Z"
    }
   },
   "outputs": [
    {
     "data": {
      "image/png": "[encoded data removed]",
      "text/plain": [
       "<Figure size 640x480 with 1 Axes>"
      ]
     },
     "metadata": {},
     "output_type": "display_data"
    }
   ],
   "source": [
    "plt.scatter(x[:,0],x[:,1],s=10)\n",
    "plt.scatter(x_pca_inv[:,0],x_pca_inv[:,1],s=10,c='r')\n",
    "plt.show()"
   ]
  },
  {
   "cell_type": "markdown",
   "id": "1e4b13f3",
   "metadata": {},
   "source": [
    "# 图像降噪"
   ]
  },
  {
   "cell_type": "code",
   "execution_count": 10,
   "id": "4706fb09",
   "metadata": {
    "ExecuteTime": {
     "end_time": "2024-02-27T11:20:50.465989Z",
     "start_time": "2024-02-27T11:20:50.413909Z"
    }
   },
   "outputs": [],
   "source": [
    "from sklearn.datasets import load_digits\n",
    "digits=load_digits()\n",
    "x=digits.data\n",
    "y=digits.target"
   ]
  },
  {
   "cell_type": "code",
   "execution_count": 11,
   "id": "6f2ffbc6",
   "metadata": {
    "ExecuteTime": {
     "end_time": "2024-02-27T11:22:54.781904Z",
     "start_time": "2024-02-27T11:22:54.775713Z"
    }
   },
   "outputs": [],
   "source": [
    "def plot_top20_digits(x):\n",
    "    for i in range(20):\n",
    "        plt.subplot(4,5,i+1)\n",
    "        plt.xticks([])\n",
    "        plt.yticks([])\n",
    "        plt.imshow(x[i].reshape(8,8),cmap=plt.cm.gray_r,interpolation=\"nearest\")\n",
    "    plt.show()"
   ]
  },
  {
   "cell_type": "code",
   "execution_count": 12,
   "id": "82df1f95",
   "metadata": {
    "ExecuteTime": {
     "end_time": "2024-02-27T11:23:05.702904Z",
     "start_time": "2024-02-27T11:23:04.920457Z"
    }
   },
   "outputs": [
    {
     "data": {
      "image/png": "[encoded data removed]",
      "text/plain": [
       "<Figure size 640x480 with 20 Axes>"
      ]
     },
     "metadata": {},
     "output_type": "display_data"
    }
   ],
   "source": [
    "plot_top20_digits(x)"
   ]
  },
  {
   "cell_type": "code",
   "execution_count": 13,
   "id": "3b4bc67c",
   "metadata": {
    "ExecuteTime": {
     "end_time": "2024-02-27T11:24:25.652792Z",
     "start_time": "2024-02-27T11:24:25.643815Z"
    }
   },
   "outputs": [],
   "source": [
    "np.random.seed(0)\n",
    "x_noise=x+np.random.randn(x.shape[0],x.shape[1])*3"
   ]
  },
  {
   "cell_type": "code",
   "execution_count": 14,
   "id": "6c1aa852",
   "metadata": {
    "ExecuteTime": {
     "end_time": "2024-02-27T11:24:34.312206Z",
     "start_time": "2024-02-27T11:24:33.818590Z"
    }
   },
   "outputs": [
    {
     "data": {
      "image/png": "[encoded data removed]",
      "text/plain": [
       "<Figure size 640x480 with 20 Axes>"
      ]
     },
     "metadata": {},
     "output_type": "display_data"
    }
   ],
   "source": [
    "plot_top20_digits(x_noise)"
   ]
  },
  {
   "cell_type": "code",
   "execution_count": 15,
   "id": "136516fb",
   "metadata": {
    "ExecuteTime": {
     "end_time": "2024-02-27T11:25:46.980753Z",
     "start_time": "2024-02-27T11:25:46.946371Z"
    }
   },
   "outputs": [],
   "source": [
    "pca=PCA(0.5)\n",
    "pca.fit(x_noise)\n",
    "x_noise_pca=pca.transform(x_noise)\n",
    "x_noise_inv=pca.inverse_transform(x_noise_pca)"
   ]
  },
  {
   "cell_type": "code",
   "execution_count": 17,
   "id": "fa8eeca2",
   "metadata": {
    "ExecuteTime": {
     "end_time": "2024-02-27T11:26:10.505938Z",
     "start_time": "2024-02-27T11:26:10.035245Z"
    }
   },
   "outputs": [
    {
     "data": {
      "image/png": "[encoded data removed]",
      "text/plain": [
       "<Figure size 640x480 with 20 Axes>"
      ]
     },
     "metadata": {},
     "output_type": "display_data"
    }
   ],
   "source": [
    "plot_top20_digits(x_noise_inv)"
   ]
  }
 ],
 "metadata": {
  "kernelspec": {
   "display_name": "Python 3 (ipykernel)",
   "language": "python",
   "name": "python3"
  },
  "language_info": {
   "codemirror_mode": {
    "name": "ipython",
    "version": 3
   },
   "file_extension": ".py",
   "mimetype": "text/x-python",
   "name": "python",
   "nbconvert_exporter": "python",
   "pygments_lexer": "ipython3",
   "version": "3.11.5"
  },
  "toc": {
   "base_numbering": 1,
   "nav_menu": {},
   "number_sections": true,
   "sideBar": true,
   "skip_h1_title": false,
   "title_cell": "Table of Contents",
   "title_sidebar": "Contents",
   "toc_cell": false,
   "toc_position": {},
   "toc_section_display": true,
   "toc_window_display": false
  },
  "varInspector": {
   "cols": {
    "lenName": 16,
    "lenType": 16,
    "lenVar": 40
   },
   "kernels_config": {
    "python": {
     "delete_cmd_postfix": "",
     "delete_cmd_prefix": "del ",
     "library": "var_list.py",
     "varRefreshCmd": "print(var_dic_list())"
    },
    "r": {
     "delete_cmd_postfix": ") ",
     "delete_cmd_prefix": "rm(",
     "library": "var_list.r",
     "varRefreshCmd": "cat(var_dic_list()) "
    }
   },
   "types_to_exclude": [
    "module",
    "function",
    "builtin_function_or_method",
    "instance",
    "_Feature"
   ],
   "window_display": false
  }
 },
 "nbformat": 4,
 "nbformat_minor": 5
}
