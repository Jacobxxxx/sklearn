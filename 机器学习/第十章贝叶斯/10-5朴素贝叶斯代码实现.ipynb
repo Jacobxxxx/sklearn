{
 "cells": [
  {
   "cell_type": "code",
   "execution_count": 1,
   "id": "5e7fa809",
   "metadata": {
    "ExecuteTime": {
     "end_time": "2024-02-17T15:21:56.361451Z",
     "start_time": "2024-02-17T15:21:56.356939Z"
    }
   },
   "outputs": [],
   "source": [
    "import numpy as np"
   ]
  },
  {
   "cell_type": "code",
   "execution_count": 3,
   "id": "d3e8eca2",
   "metadata": {
    "ExecuteTime": {
     "end_time": "2024-02-17T15:24:51.703393Z",
     "start_time": "2024-02-17T15:24:51.698743Z"
    }
   },
   "outputs": [],
   "source": [
    "X=[[1,0,0,1],   \n",
    "   [0,1,0,0],\n",
    "   [1,1,0,0],\n",
    "   [0,1,2,0],\n",
    "   [1,0,0,0],\n",
    "   [1,0,0,0],\n",
    "   [1,1,2,1],\n",
    "   [0,1,1,0],\n",
    "   [1,1,1,0],\n",
    "   [0,0,2,0],\n",
    "   [1,1,0,1],\n",
    "   [1,1,0,1]]\n",
    "\n",
    "y=[0,0,1,1,0,0,1,1,1,1,0,0]\n",
    "\n",
    "t=[[0,0,0,1]]"
   ]
  },
  {
   "cell_type": "code",
   "execution_count": 4,
   "id": "4b29cbec",
   "metadata": {
    "ExecuteTime": {
     "end_time": "2024-02-17T15:25:34.851413Z",
     "start_time": "2024-02-17T15:25:34.848204Z"
    }
   },
   "outputs": [],
   "source": [
    "from sklearn.naive_bayes import BernoulliNB#伯努利朴素贝叶斯分类器"
   ]
  },
  {
   "cell_type": "code",
   "execution_count": 5,
   "id": "c7013c1f",
   "metadata": {
    "ExecuteTime": {
     "end_time": "2024-02-17T15:27:10.219000Z",
     "start_time": "2024-02-17T15:27:10.192188Z"
    }
   },
   "outputs": [
    {
     "data": {
      "text/plain": [
       "array([[0.875, 0.125]])"
      ]
     },
     "execution_count": 5,
     "metadata": {},
     "output_type": "execute_result"
    }
   ],
   "source": [
    "bnb=BernoulliNB()\n",
    "bnb.fit(X,y)\n",
    "bnb.predict_proba(t)"
   ]
  },
  {
   "cell_type": "markdown",
   "id": "40b41362",
   "metadata": {},
   "source": [
    "# 五种分类器对比"
   ]
  },
  {
   "cell_type": "code",
   "execution_count": 7,
   "id": "f7403d75",
   "metadata": {
    "ExecuteTime": {
     "end_time": "2024-02-17T15:37:27.895388Z",
     "start_time": "2024-02-17T15:37:27.887345Z"
    }
   },
   "outputs": [],
   "source": [
    "import warnings\n",
    "warnings.filterwarnings(\"ignore\")\n",
    "from sklearn.datasets import load_iris\n",
    "iris=load_iris()\n",
    "X=iris.data\n",
    "y=iris.target\n",
    "from sklearn.model_selection import train_test_split\n",
    "X_train,X_test,y_train,y_test=train_test_split(X,y,test_size=0.25,random_state=0)"
   ]
  },
  {
   "cell_type": "code",
   "execution_count": 9,
   "id": "6ffdbe8f",
   "metadata": {
    "ExecuteTime": {
     "end_time": "2024-02-17T15:38:01.220221Z",
     "start_time": "2024-02-17T15:38:01.216081Z"
    }
   },
   "outputs": [
    {
     "name": "stdout",
     "output_type": "stream",
     "text": [
      ".. _iris_dataset:\n",
      "\n",
      "Iris plants dataset\n",
      "--------------------\n",
      "\n",
      "**Data Set Characteristics:**\n",
      "\n",
      "    :Number of Instances: 150 (50 in each of three classes)\n",
      "    :Number of Attributes: 4 numeric, predictive attributes and the class\n",
      "    :Attribute Information:\n",
      "        - sepal length in cm\n",
      "        - sepal width in cm\n",
      "        - petal length in cm\n",
      "        - petal width in cm\n",
      "        - class:\n",
      "                - Iris-Setosa\n",
      "                - Iris-Versicolour\n",
      "                - Iris-Virginica\n",
      "                \n",
      "    :Summary Statistics:\n",
      "\n",
      "    ============== ==== ==== ======= ===== ====================\n",
      "                    Min  Max   Mean    SD   Class Correlation\n",
      "    ============== ==== ==== ======= ===== ====================\n",
      "    sepal length:   4.3  7.9   5.84   0.83    0.7826\n",
      "    sepal width:    2.0  4.4   3.05   0.43   -0.4194\n",
      "    petal length:   1.0  6.9   3.76   1.76    0.9490  (high!)\n",
      "    petal width:    0.1  2.5   1.20   0.76    0.9565  (high!)\n",
      "    ============== ==== ==== ======= ===== ====================\n",
      "\n",
      "    :Missing Attribute Values: None\n",
      "    :Class Distribution: 33.3% for each of 3 classes.\n",
      "    :Creator: R.A. Fisher\n",
      "    :Donor: Michael Marshall (MARSHALL%PLU@io.arc.nasa.gov)\n",
      "    :Date: July, 1988\n",
      "\n",
      "The famous Iris database, first used by Sir R.A. Fisher. The dataset is taken\n",
      "from Fisher's paper. Note that it's the same as in R, but not as in the UCI\n",
      "Machine Learning Repository, which has two wrong data points.\n",
      "\n",
      "This is perhaps the best known database to be found in the\n",
      "pattern recognition literature.  Fisher's paper is a classic in the field and\n",
      "is referenced frequently to this day.  (See Duda & Hart, for example.)  The\n",
      "data set contains 3 classes of 50 instances each, where each class refers to a\n",
      "type of iris plant.  One class is linearly separable from the other 2; the\n",
      "latter are NOT linearly separable from each other.\n",
      "\n",
      ".. topic:: References\n",
      "\n",
      "   - Fisher, R.A. \"The use of multiple measurements in taxonomic problems\"\n",
      "     Annual Eugenics, 7, Part II, 179-188 (1936); also in \"Contributions to\n",
      "     Mathematical Statistics\" (John Wiley, NY, 1950).\n",
      "   - Duda, R.O., & Hart, P.E. (1973) Pattern Classification and Scene Analysis.\n",
      "     (Q327.D83) John Wiley & Sons.  ISBN 0-471-22361-1.  See page 218.\n",
      "   - Dasarathy, B.V. (1980) \"Nosing Around the Neighborhood: A New System\n",
      "     Structure and Classification Rule for Recognition in Partially Exposed\n",
      "     Environments\".  IEEE Transactions on Pattern Analysis and Machine\n",
      "     Intelligence, Vol. PAMI-2, No. 1, 67-71.\n",
      "   - Gates, G.W. (1972) \"The Reduced Nearest Neighbor Rule\".  IEEE Transactions\n",
      "     on Information Theory, May 1972, 431-433.\n",
      "   - See also: 1988 MLC Proceedings, 54-64.  Cheeseman et al\"s AUTOCLASS II\n",
      "     conceptual clustering system finds 3 classes in the data.\n",
      "   - Many, many more ...\n"
     ]
    }
   ],
   "source": [
    "print(iris.DESCR)"
   ]
  },
  {
   "cell_type": "code",
   "execution_count": 10,
   "id": "e2b0238f",
   "metadata": {
    "ExecuteTime": {
     "end_time": "2024-02-17T15:38:35.198830Z",
     "start_time": "2024-02-17T15:38:35.060289Z"
    }
   },
   "outputs": [
    {
     "data": {
      "text/plain": [
       "0.23684210526315788"
      ]
     },
     "execution_count": 10,
     "metadata": {},
     "output_type": "execute_result"
    }
   ],
   "source": [
    "from sklearn.naive_bayes import BernoulliNB#适用于离散二分类\n",
    "nb=BernoulliNB()\n",
    "nb.fit(X_train,y_train)\n",
    "nb.score(X_test,y_test)"
   ]
  },
  {
   "cell_type": "code",
   "execution_count": 11,
   "id": "55e21940",
   "metadata": {
    "ExecuteTime": {
     "end_time": "2024-02-17T15:39:26.517251Z",
     "start_time": "2024-02-17T15:39:26.508480Z"
    }
   },
   "outputs": [
    {
     "data": {
      "text/plain": [
       "1.0"
      ]
     },
     "execution_count": 11,
     "metadata": {},
     "output_type": "execute_result"
    }
   ],
   "source": [
    "from sklearn.naive_bayes import GaussianNB#适用于连续型变量\n",
    "nb=GaussianNB()\n",
    "nb.fit(X_train,y_train)\n",
    "nb.score(X_test,y_test)"
   ]
  },
  {
   "cell_type": "code",
   "execution_count": 12,
   "id": "2eaf23ee",
   "metadata": {
    "ExecuteTime": {
     "end_time": "2024-02-17T15:40:09.268879Z",
     "start_time": "2024-02-17T15:40:09.258412Z"
    }
   },
   "outputs": [
    {
     "data": {
      "text/plain": [
       "0.8947368421052632"
      ]
     },
     "execution_count": 12,
     "metadata": {},
     "output_type": "execute_result"
    }
   ],
   "source": [
    "from sklearn.naive_bayes import CategoricalNB#基于类别型变量\n",
    "nb=CategoricalNB()\n",
    "nb.fit(X_train,y_train)\n",
    "nb.score(X_test,y_test)"
   ]
  },
  {
   "cell_type": "code",
   "execution_count": 13,
   "id": "a026f609",
   "metadata": {
    "ExecuteTime": {
     "end_time": "2024-02-17T15:40:47.969207Z",
     "start_time": "2024-02-17T15:40:47.961182Z"
    }
   },
   "outputs": [
    {
     "data": {
      "text/plain": [
       "0.5789473684210527"
      ]
     },
     "execution_count": 13,
     "metadata": {},
     "output_type": "execute_result"
    }
   ],
   "source": [
    "from sklearn.naive_bayes import MultinomialNB#多项式\n",
    "nb=MultinomialNB()\n",
    "nb.fit(X_train,y_train)\n",
    "nb.score(X_test,y_test)"
   ]
  },
  {
   "cell_type": "code",
   "execution_count": 14,
   "id": "b1462cb2",
   "metadata": {
    "ExecuteTime": {
     "end_time": "2024-02-17T15:41:31.790572Z",
     "start_time": "2024-02-17T15:41:31.782074Z"
    }
   },
   "outputs": [
    {
     "data": {
      "text/plain": [
       "0.5789473684210527"
      ]
     },
     "execution_count": 14,
     "metadata": {},
     "output_type": "execute_result"
    }
   ],
   "source": [
    "from sklearn.naive_bayes import ComplementNB#多项式的改进算法补集\n",
    "nb=ComplementNB()\n",
    "nb.fit(X_train,y_train)\n",
    "nb.score(X_test,y_test)"
   ]
  }
 ],
 "metadata": {
  "kernelspec": {
   "display_name": "Python 3 (ipykernel)",
   "language": "python",
   "name": "python3"
  },
  "language_info": {
   "codemirror_mode": {
    "name": "ipython",
    "version": 3
   },
   "file_extension": ".py",
   "mimetype": "text/x-python",
   "name": "python",
   "nbconvert_exporter": "python",
   "pygments_lexer": "ipython3",
   "version": "3.11.5"
  },
  "toc": {
   "base_numbering": 1,
   "nav_menu": {},
   "number_sections": true,
   "sideBar": true,
   "skip_h1_title": false,
   "title_cell": "Table of Contents",
   "title_sidebar": "Contents",
   "toc_cell": false,
   "toc_position": {},
   "toc_section_display": true,
   "toc_window_display": false
  },
  "varInspector": {
   "cols": {
    "lenName": 16,
    "lenType": 16,
    "lenVar": 40
   },
   "kernels_config": {
    "python": {
     "delete_cmd_postfix": "",
     "delete_cmd_prefix": "del ",
     "library": "var_list.py",
     "varRefreshCmd": "print(var_dic_list())"
    },
    "r": {
     "delete_cmd_postfix": ") ",
     "delete_cmd_prefix": "rm(",
     "library": "var_list.r",
     "varRefreshCmd": "cat(var_dic_list()) "
    }
   },
   "types_to_exclude": [
    "module",
    "function",
    "builtin_function_or_method",
    "instance",
    "_Feature"
   ],
   "window_display": false
  }
 },
 "nbformat": 4,
 "nbformat_minor": 5
}
