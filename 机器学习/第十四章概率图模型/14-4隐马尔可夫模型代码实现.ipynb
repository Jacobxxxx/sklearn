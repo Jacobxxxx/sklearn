{
 "cells": [
  {
   "cell_type": "markdown",
   "id": "3a4d2d57",
   "metadata": {},
   "source": [
    "# 数据准备"
   ]
  },
  {
   "cell_type": "code",
   "execution_count": 1,
   "id": "60941f0c",
   "metadata": {
    "ExecuteTime": {
     "end_time": "2024-02-27T14:28:47.845234Z",
     "start_time": "2024-02-27T14:28:47.838230Z"
    }
   },
   "outputs": [],
   "source": [
    "import numpy as np\n",
    "state=np.array(['认真复习','简单复习','没有复习'])\n",
    "grade=np.array(['A+','A','A-','B+','B','B-','C+','C','C-'])\n",
    "n_state=len(state)\n",
    "m_grade=len(grade)\n",
    "pi=np.ones(n_state)/n_state\n",
    "t=np.array([\n",
    "    [0.4,0.3,0.3],\n",
    "    [0.3,0.4,0.3],\n",
    "    [0.3,0.3,0.4]\n",
    "])\n",
    "e=np.zeros([3,9])\n",
    "e[0,:9]=1/9\n",
    "e[1,3:9]=1/6\n",
    "e[2,5:9]=1/4"
   ]
  },
  {
   "cell_type": "code",
   "execution_count": 2,
   "id": "0e7de8d3",
   "metadata": {
    "ExecuteTime": {
     "end_time": "2024-02-27T14:30:38.224350Z",
     "start_time": "2024-02-27T14:30:38.218368Z"
    }
   },
   "outputs": [
    {
     "name": "stdout",
     "output_type": "stream",
     "text": [
      "初始概率矩阵:\n",
      " [0.33333333 0.33333333 0.33333333]\n",
      "转移矩阵:\n",
      " [[0.4 0.3 0.3]\n",
      " [0.3 0.4 0.3]\n",
      " [0.3 0.3 0.4]]\n",
      "发射矩阵:\n",
      " [[0.11111111 0.11111111 0.11111111 0.11111111 0.11111111 0.11111111\n",
      "  0.11111111 0.11111111 0.11111111]\n",
      " [0.         0.         0.         0.16666667 0.16666667 0.16666667\n",
      "  0.16666667 0.16666667 0.16666667]\n",
      " [0.         0.         0.         0.         0.         0.25\n",
      "  0.25       0.25       0.25      ]]\n"
     ]
    }
   ],
   "source": [
    "print(\"初始概率矩阵:\\n\",pi)\n",
    "print(\"转移矩阵:\\n\",t)\n",
    "print(\"发射矩阵:\\n\",e)"
   ]
  },
  {
   "cell_type": "markdown",
   "id": "a28287bf",
   "metadata": {},
   "source": [
    "# hmmlearn"
   ]
  },
  {
   "cell_type": "code",
   "execution_count": 3,
   "id": "7f1d8751",
   "metadata": {
    "ExecuteTime": {
     "end_time": "2024-02-27T14:41:37.542169Z",
     "start_time": "2024-02-27T14:41:37.537571Z"
    }
   },
   "outputs": [],
   "source": [
    "from hmmlearn.hmm import CategoricalHMM\n",
    "hmm=CategoricalHMM(n_state)"
   ]
  },
  {
   "cell_type": "code",
   "execution_count": 7,
   "id": "97c2e7e6",
   "metadata": {
    "ExecuteTime": {
     "end_time": "2024-02-27T14:46:38.685004Z",
     "start_time": "2024-02-27T14:46:38.680644Z"
    }
   },
   "outputs": [],
   "source": [
    "hmm.startprob_=pi\n",
    "hmm.transmat_=t\n",
    "hmm.emissionprob_=e\n",
    "hmm.n_features=9#观测值个数"
   ]
  },
  {
   "cell_type": "code",
   "execution_count": 10,
   "id": "2ac74cf0",
   "metadata": {
    "ExecuteTime": {
     "end_time": "2024-02-27T14:47:00.401982Z",
     "start_time": "2024-02-27T14:47:00.396999Z"
    }
   },
   "outputs": [],
   "source": [
    "datas=np.array([0,4,2,6,1])\n",
    "datas=np.expand_dims(datas,axis=1)\n",
    "states=hmm.predict(datas)"
   ]
  },
  {
   "cell_type": "code",
   "execution_count": 11,
   "id": "ef6f6e43",
   "metadata": {
    "ExecuteTime": {
     "end_time": "2024-02-27T14:47:01.202122Z",
     "start_time": "2024-02-27T14:47:01.195534Z"
    }
   },
   "outputs": [
    {
     "data": {
      "text/plain": [
       "array([0, 0, 0, 2, 0], dtype=int64)"
      ]
     },
     "execution_count": 11,
     "metadata": {},
     "output_type": "execute_result"
    }
   ],
   "source": [
    "states"
   ]
  },
  {
   "cell_type": "code",
   "execution_count": 12,
   "id": "0399a007",
   "metadata": {
    "ExecuteTime": {
     "end_time": "2024-02-27T14:47:36.030723Z",
     "start_time": "2024-02-27T14:47:36.023828Z"
    }
   },
   "outputs": [
    {
     "data": {
      "text/plain": [
       "-14.003674820375014"
      ]
     },
     "execution_count": 12,
     "metadata": {},
     "output_type": "execute_result"
    }
   ],
   "source": [
    "prob=hmm.score(datas)\n",
    "prob"
   ]
  },
  {
   "cell_type": "code",
   "execution_count": 13,
   "id": "386c9243",
   "metadata": {
    "ExecuteTime": {
     "end_time": "2024-02-27T14:47:45.786105Z",
     "start_time": "2024-02-27T14:47:45.773932Z"
    }
   },
   "outputs": [
    {
     "name": "stdout",
     "output_type": "stream",
     "text": [
      "8.284786081615825e-07\n"
     ]
    }
   ],
   "source": [
    "print(np.exp(prob))"
   ]
  },
  {
   "cell_type": "markdown",
   "id": "fe2ea6e4",
   "metadata": {},
   "source": [
    "## hmm生成满足三要素约束的数据"
   ]
  },
  {
   "cell_type": "code",
   "execution_count": 14,
   "id": "242df4d5",
   "metadata": {
    "ExecuteTime": {
     "end_time": "2024-02-27T14:49:18.887390Z",
     "start_time": "2024-02-27T14:49:18.775967Z"
    }
   },
   "outputs": [],
   "source": [
    "datas,states=hmm.sample(10000)"
   ]
  },
  {
   "cell_type": "code",
   "execution_count": 15,
   "id": "a90363d2",
   "metadata": {
    "ExecuteTime": {
     "end_time": "2024-02-27T14:53:19.489965Z",
     "start_time": "2024-02-27T14:53:19.481369Z"
    }
   },
   "outputs": [
    {
     "name": "stdout",
     "output_type": "stream",
     "text": [
      "[[0.40910426 0.29162996 0.29926579]\n",
      " [0.31485519 0.3889754  0.29616942]\n",
      " [0.29606625 0.28630583 0.41762792]]\n"
     ]
    }
   ],
   "source": [
    "t_2=np.zeros([3,3])\n",
    "for i in range(3):\n",
    "    current=np.where(states==i)[0]\n",
    "    next_index=current+1\n",
    "    next_index=next_index[:-1]\n",
    "    \n",
    "    tmp=states[next_index]\n",
    "    for j in range(3):\n",
    "        t_2[i][j]=np.where(tmp==j)[0].shape[0]/np.shape(tmp)[0]\n",
    "print(t_2)"
   ]
  },
  {
   "cell_type": "code",
   "execution_count": 17,
   "id": "626fd926",
   "metadata": {
    "ExecuteTime": {
     "end_time": "2024-02-27T14:54:25.450615Z",
     "start_time": "2024-02-27T14:54:25.442160Z"
    }
   },
   "outputs": [
    {
     "name": "stdout",
     "output_type": "stream",
     "text": [
      "[[0.40910426 0.29162996 0.29926579 0.         0.         0.\n",
      "  0.         0.         0.        ]\n",
      " [0.31485519 0.3889754  0.29616942 0.         0.         0.\n",
      "  0.         0.         0.        ]\n",
      " [0.29606625 0.28630583 0.41762792 0.         0.         0.\n",
      "  0.         0.         0.        ]]\n"
     ]
    }
   ],
   "source": [
    "e_2=np.zeros([3,9])\n",
    "for i in range(3):\n",
    "    current=np.where(states==i)[0]\n",
    "    next_index=current+1\n",
    "    next_index=next_index[:-1]\n",
    "    \n",
    "    tmp=states[next_index]\n",
    "    for j in range(9):\n",
    "        e_2[i][j]=np.where(tmp==j)[0].shape[0]/np.shape(tmp)[0]\n",
    "print(e_2)"
   ]
  }
 ],
 "metadata": {
  "kernelspec": {
   "display_name": "Python 3 (ipykernel)",
   "language": "python",
   "name": "python3"
  },
  "language_info": {
   "codemirror_mode": {
    "name": "ipython",
    "version": 3
   },
   "file_extension": ".py",
   "mimetype": "text/x-python",
   "name": "python",
   "nbconvert_exporter": "python",
   "pygments_lexer": "ipython3",
   "version": "3.11.5"
  },
  "toc": {
   "base_numbering": 1,
   "nav_menu": {},
   "number_sections": true,
   "sideBar": true,
   "skip_h1_title": false,
   "title_cell": "Table of Contents",
   "title_sidebar": "Contents",
   "toc_cell": false,
   "toc_position": {},
   "toc_section_display": true,
   "toc_window_display": false
  },
  "varInspector": {
   "cols": {
    "lenName": 16,
    "lenType": 16,
    "lenVar": 40
   },
   "kernels_config": {
    "python": {
     "delete_cmd_postfix": "",
     "delete_cmd_prefix": "del ",
     "library": "var_list.py",
     "varRefreshCmd": "print(var_dic_list())"
    },
    "r": {
     "delete_cmd_postfix": ") ",
     "delete_cmd_prefix": "rm(",
     "library": "var_list.r",
     "varRefreshCmd": "cat(var_dic_list()) "
    }
   },
   "types_to_exclude": [
    "module",
    "function",
    "builtin_function_or_method",
    "instance",
    "_Feature"
   ],
   "window_display": false
  }
 },
 "nbformat": 4,
 "nbformat_minor": 5
}
