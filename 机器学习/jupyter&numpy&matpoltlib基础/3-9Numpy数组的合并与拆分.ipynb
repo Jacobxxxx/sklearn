{
 "cells": [
  {
   "cell_type": "markdown",
   "id": "58d1b5f4",
   "metadata": {},
   "source": [
    "# 数组的合并\n",
    "## concatenate\n",
    "## vstack\n",
    "## hstack都是传入元组"
   ]
  },
  {
   "cell_type": "code",
   "execution_count": 1,
   "id": "52be3f45",
   "metadata": {
    "ExecuteTime": {
     "end_time": "2024-02-13T08:47:42.599334Z",
     "start_time": "2024-02-13T08:47:42.446395Z"
    }
   },
   "outputs": [],
   "source": [
    "import numpy as np"
   ]
  },
  {
   "cell_type": "code",
   "execution_count": 2,
   "id": "6b481868",
   "metadata": {
    "ExecuteTime": {
     "end_time": "2024-02-13T08:47:42.609043Z",
     "start_time": "2024-02-13T08:47:42.600333Z"
    }
   },
   "outputs": [
    {
     "data": {
      "text/plain": [
       "array([[ 0,  1,  2,  3],\n",
       "       [ 4,  5,  6,  7],\n",
       "       [ 8,  9, 10, 11]])"
      ]
     },
     "execution_count": 2,
     "metadata": {},
     "output_type": "execute_result"
    }
   ],
   "source": [
    "X=np.arange(12).reshape(3,4)\n",
    "X"
   ]
  },
  {
   "cell_type": "code",
   "execution_count": 3,
   "id": "b967f3e3",
   "metadata": {
    "ExecuteTime": {
     "end_time": "2024-02-13T08:47:42.615830Z",
     "start_time": "2024-02-13T08:47:42.611042Z"
    }
   },
   "outputs": [
    {
     "data": {
      "text/plain": [
       "array([6, 6, 6, 6])"
      ]
     },
     "execution_count": 3,
     "metadata": {},
     "output_type": "execute_result"
    }
   ],
   "source": [
    "a=np.array([6,6,6,6])\n",
    "a"
   ]
  },
  {
   "cell_type": "markdown",
   "id": "9cc8b315",
   "metadata": {},
   "source": [
    "## concatenate传入一个元组，元组里是要执行合并操作的数组，且二者维度相同"
   ]
  },
  {
   "cell_type": "code",
   "execution_count": 4,
   "id": "b2beb8c3",
   "metadata": {
    "ExecuteTime": {
     "end_time": "2024-02-13T08:47:42.625964Z",
     "start_time": "2024-02-13T08:47:42.617829Z"
    }
   },
   "outputs": [
    {
     "data": {
      "text/plain": [
       "array([[ 0,  1,  2,  3],\n",
       "       [ 4,  5,  6,  7],\n",
       "       [ 8,  9, 10, 11],\n",
       "       [ 6,  6,  6,  6]])"
      ]
     },
     "execution_count": 4,
     "metadata": {},
     "output_type": "execute_result"
    }
   ],
   "source": [
    "np.concatenate((X,a.reshape(1,4)))"
   ]
  },
  {
   "cell_type": "code",
   "execution_count": 5,
   "id": "251b8bf3",
   "metadata": {
    "ExecuteTime": {
     "end_time": "2024-02-13T08:47:42.635767Z",
     "start_time": "2024-02-13T08:47:42.626964Z"
    }
   },
   "outputs": [
    {
     "data": {
      "text/plain": [
       "array([[ 0,  1,  2,  3],\n",
       "       [ 4,  5,  6,  7],\n",
       "       [ 8,  9, 10, 11],\n",
       "       [ 6,  6,  6,  6]])"
      ]
     },
     "execution_count": 5,
     "metadata": {},
     "output_type": "execute_result"
    }
   ],
   "source": [
    "np.concatenate((X,a.reshape(1,4)))#两个数组维度相同，前为二维后为一维，故后reshape"
   ]
  },
  {
   "cell_type": "code",
   "execution_count": 6,
   "id": "16693f15",
   "metadata": {
    "ExecuteTime": {
     "end_time": "2024-02-13T08:47:42.644521Z",
     "start_time": "2024-02-13T08:47:42.638764Z"
    }
   },
   "outputs": [
    {
     "data": {
      "text/plain": [
       "array([[ 0,  1,  2,  3],\n",
       "       [ 4,  5,  6,  7],\n",
       "       [ 8,  9, 10, 11]])"
      ]
     },
     "execution_count": 6,
     "metadata": {},
     "output_type": "execute_result"
    }
   ],
   "source": [
    "X"
   ]
  },
  {
   "cell_type": "code",
   "execution_count": 7,
   "id": "63357bb1",
   "metadata": {
    "ExecuteTime": {
     "end_time": "2024-02-13T08:47:42.655670Z",
     "start_time": "2024-02-13T08:47:42.646518Z"
    }
   },
   "outputs": [
    {
     "data": {
      "text/plain": [
       "array([6, 6, 6, 6])"
      ]
     },
     "execution_count": 7,
     "metadata": {},
     "output_type": "execute_result"
    }
   ],
   "source": [
    "a#合并后aX不改变，若要保存赋值给变量"
   ]
  },
  {
   "cell_type": "code",
   "execution_count": 8,
   "id": "eaee108c",
   "metadata": {
    "ExecuteTime": {
     "end_time": "2024-02-13T08:47:42.664255Z",
     "start_time": "2024-02-13T08:47:42.657668Z"
    }
   },
   "outputs": [
    {
     "data": {
      "text/plain": [
       "array([[ 0,  1,  2,  3],\n",
       "       [ 4,  5,  6,  7],\n",
       "       [ 8,  9, 10, 11],\n",
       "       [ 6,  6,  6,  6]])"
      ]
     },
     "execution_count": 8,
     "metadata": {},
     "output_type": "execute_result"
    }
   ],
   "source": [
    "A=np.concatenate((X,a.reshape(1,4)))\n",
    "A"
   ]
  },
  {
   "cell_type": "markdown",
   "id": "f9a191f0",
   "metadata": {},
   "source": [
    "## vstack列方向合并行数增加"
   ]
  },
  {
   "cell_type": "code",
   "execution_count": 9,
   "id": "58f2f633",
   "metadata": {
    "ExecuteTime": {
     "end_time": "2024-02-13T08:47:42.674377Z",
     "start_time": "2024-02-13T08:47:42.666255Z"
    }
   },
   "outputs": [
    {
     "data": {
      "text/plain": [
       "array([[ 0,  1,  2,  3],\n",
       "       [ 4,  5,  6,  7],\n",
       "       [ 8,  9, 10, 11],\n",
       "       [ 6,  6,  6,  6]])"
      ]
     },
     "execution_count": 9,
     "metadata": {},
     "output_type": "execute_result"
    }
   ],
   "source": [
    "np.vstack((X,a))#传入一个元组，且维度不用相同，两个矩阵是竖直方向上的合并"
   ]
  },
  {
   "cell_type": "code",
   "execution_count": 10,
   "id": "5784dc38",
   "metadata": {
    "ExecuteTime": {
     "end_time": "2024-02-13T08:47:42.683835Z",
     "start_time": "2024-02-13T08:47:42.679367Z"
    }
   },
   "outputs": [
    {
     "data": {
      "text/plain": [
       "array([[666, 666],\n",
       "       [666, 666],\n",
       "       [666, 666]])"
      ]
     },
     "execution_count": 10,
     "metadata": {},
     "output_type": "execute_result"
    }
   ],
   "source": [
    "B=np.full((3,2),666)\n",
    "B"
   ]
  },
  {
   "cell_type": "markdown",
   "id": "a74e8323",
   "metadata": {},
   "source": [
    "## hstack行方向合并，列数增加"
   ]
  },
  {
   "cell_type": "code",
   "execution_count": 11,
   "id": "06666da8",
   "metadata": {
    "ExecuteTime": {
     "end_time": "2024-02-13T08:47:42.694726Z",
     "start_time": "2024-02-13T08:47:42.685833Z"
    }
   },
   "outputs": [
    {
     "data": {
      "text/plain": [
       "array([[  0,   1,   2,   3, 666, 666],\n",
       "       [  4,   5,   6,   7, 666, 666],\n",
       "       [  8,   9,  10,  11, 666, 666]])"
      ]
     },
     "execution_count": 11,
     "metadata": {},
     "output_type": "execute_result"
    }
   ],
   "source": [
    "np.hstack((X,B))"
   ]
  },
  {
   "cell_type": "code",
   "execution_count": 12,
   "id": "9add6b3d",
   "metadata": {
    "ExecuteTime": {
     "end_time": "2024-02-13T08:47:42.701521Z",
     "start_time": "2024-02-13T08:47:42.695726Z"
    }
   },
   "outputs": [
    {
     "data": {
      "text/plain": [
       "array([[  0,   1,   2,   3, 666, 666],\n",
       "       [  4,   5,   6,   7, 666, 666],\n",
       "       [  8,   9,  10,  11, 666, 666]])"
      ]
     },
     "execution_count": 12,
     "metadata": {},
     "output_type": "execute_result"
    }
   ],
   "source": [
    "np.concatenate((X,B),axis=1)"
   ]
  },
  {
   "cell_type": "markdown",
   "id": "b6133c69",
   "metadata": {},
   "source": [
    "# 数组的拆分\n",
    "## split\n",
    "## vsplit\n",
    "## hsplit"
   ]
  },
  {
   "cell_type": "code",
   "execution_count": 13,
   "id": "641016ee",
   "metadata": {
    "ExecuteTime": {
     "end_time": "2024-02-13T08:47:42.711963Z",
     "start_time": "2024-02-13T08:47:42.704517Z"
    }
   },
   "outputs": [
    {
     "data": {
      "text/plain": [
       "array([[ 0,  1,  2,  3],\n",
       "       [ 4,  5,  6,  7],\n",
       "       [ 8,  9, 10, 11]])"
      ]
     },
     "execution_count": 13,
     "metadata": {},
     "output_type": "execute_result"
    }
   ],
   "source": [
    "X"
   ]
  },
  {
   "cell_type": "markdown",
   "id": "faae06fc",
   "metadata": {},
   "source": [
    "## split（矩阵，拆分的哪一行或列，axis=0/1，默认值为0(列)）"
   ]
  },
  {
   "cell_type": "code",
   "execution_count": 14,
   "id": "12830c9b",
   "metadata": {
    "ExecuteTime": {
     "end_time": "2024-02-13T08:47:42.719892Z",
     "start_time": "2024-02-13T08:47:42.713961Z"
    }
   },
   "outputs": [
    {
     "data": {
      "text/plain": [
       "array([[ 0,  1,  2,  3],\n",
       "       [ 4,  5,  6,  7],\n",
       "       [ 8,  9, 10, 11]])"
      ]
     },
     "execution_count": 14,
     "metadata": {},
     "output_type": "execute_result"
    }
   ],
   "source": [
    "X"
   ]
  },
  {
   "cell_type": "code",
   "execution_count": 24,
   "id": "f00a84ad",
   "metadata": {
    "ExecuteTime": {
     "end_time": "2024-02-13T08:49:14.508466Z",
     "start_time": "2024-02-13T08:49:14.501005Z"
    }
   },
   "outputs": [
    {
     "data": {
      "text/plain": [
       "[array([[0, 1, 2, 3],\n",
       "        [4, 5, 6, 7]]),\n",
       " array([[ 8,  9, 10, 11]])]"
      ]
     },
     "execution_count": 24,
     "metadata": {},
     "output_type": "execute_result"
    }
   ],
   "source": [
    "np.split(X,[-1])#np.split(X,[-1],axis=0)"
   ]
  },
  {
   "cell_type": "code",
   "execution_count": 16,
   "id": "7c85f02a",
   "metadata": {
    "ExecuteTime": {
     "end_time": "2024-02-13T08:47:42.740822Z",
     "start_time": "2024-02-13T08:47:42.732223Z"
    }
   },
   "outputs": [
    {
     "data": {
      "text/plain": [
       "[array([[ 0,  1,  2],\n",
       "        [ 4,  5,  6],\n",
       "        [ 8,  9, 10]]),\n",
       " array([[ 3],\n",
       "        [ 7],\n",
       "        [11]])]"
      ]
     },
     "execution_count": 16,
     "metadata": {},
     "output_type": "execute_result"
    }
   ],
   "source": [
    "np.split(X,[-1],axis=1)"
   ]
  },
  {
   "cell_type": "code",
   "execution_count": 17,
   "id": "62d3b6c1",
   "metadata": {
    "ExecuteTime": {
     "end_time": "2024-02-13T08:47:42.748262Z",
     "start_time": "2024-02-13T08:47:42.742821Z"
    }
   },
   "outputs": [],
   "source": [
    "X1,X2=np.split(X,[-1],axis=1)"
   ]
  },
  {
   "cell_type": "code",
   "execution_count": 18,
   "id": "ad12c703",
   "metadata": {
    "ExecuteTime": {
     "end_time": "2024-02-13T08:47:42.759337Z",
     "start_time": "2024-02-13T08:47:42.750260Z"
    }
   },
   "outputs": [
    {
     "data": {
      "text/plain": [
       "array([[ 0,  1,  2],\n",
       "       [ 4,  5,  6],\n",
       "       [ 8,  9, 10]])"
      ]
     },
     "execution_count": 18,
     "metadata": {},
     "output_type": "execute_result"
    }
   ],
   "source": [
    "X1"
   ]
  },
  {
   "cell_type": "code",
   "execution_count": 19,
   "id": "20a359ab",
   "metadata": {
    "ExecuteTime": {
     "end_time": "2024-02-13T08:47:42.766803Z",
     "start_time": "2024-02-13T08:47:42.761335Z"
    }
   },
   "outputs": [
    {
     "data": {
      "text/plain": [
       "array([[ 3],\n",
       "       [ 7],\n",
       "       [11]])"
      ]
     },
     "execution_count": 19,
     "metadata": {},
     "output_type": "execute_result"
    }
   ],
   "source": [
    "X2"
   ]
  },
  {
   "cell_type": "markdown",
   "id": "fe7cc065",
   "metadata": {},
   "source": [
    "### vsplit"
   ]
  },
  {
   "cell_type": "code",
   "execution_count": 20,
   "id": "94691700",
   "metadata": {
    "ExecuteTime": {
     "end_time": "2024-02-13T08:47:42.778193Z",
     "start_time": "2024-02-13T08:47:42.769800Z"
    }
   },
   "outputs": [
    {
     "data": {
      "text/plain": [
       "[array([[0, 1, 2, 3],\n",
       "        [4, 5, 6, 7]]),\n",
       " array([[ 8,  9, 10, 11]])]"
      ]
     },
     "execution_count": 20,
     "metadata": {},
     "output_type": "execute_result"
    }
   ],
   "source": [
    "np.vsplit(X,[2])#拆分为[0:2]{2:}"
   ]
  },
  {
   "cell_type": "markdown",
   "id": "90d58c1e",
   "metadata": {},
   "source": [
    "### hsplit"
   ]
  },
  {
   "cell_type": "code",
   "execution_count": 21,
   "id": "c0cd5b40",
   "metadata": {
    "ExecuteTime": {
     "end_time": "2024-02-13T08:47:42.787136Z",
     "start_time": "2024-02-13T08:47:42.780192Z"
    }
   },
   "outputs": [
    {
     "data": {
      "text/plain": [
       "[array([[0],\n",
       "        [4],\n",
       "        [8]]),\n",
       " array([[ 1,  2],\n",
       "        [ 5,  6],\n",
       "        [ 9, 10]]),\n",
       " array([[ 3],\n",
       "        [ 7],\n",
       "        [11]])]"
      ]
     },
     "execution_count": 21,
     "metadata": {},
     "output_type": "execute_result"
    }
   ],
   "source": [
    "np.hsplit(X,[1,3])#拆分为[0:1][1:3][3:]"
   ]
  }
 ],
 "metadata": {
  "kernelspec": {
   "display_name": "Python 3 (ipykernel)",
   "language": "python",
   "name": "python3"
  },
  "language_info": {
   "codemirror_mode": {
    "name": "ipython",
    "version": 3
   },
   "file_extension": ".py",
   "mimetype": "text/x-python",
   "name": "python",
   "nbconvert_exporter": "python",
   "pygments_lexer": "ipython3",
   "version": "3.11.5"
  },
  "toc": {
   "base_numbering": 1,
   "nav_menu": {},
   "number_sections": true,
   "sideBar": true,
   "skip_h1_title": false,
   "title_cell": "Table of Contents",
   "title_sidebar": "Contents",
   "toc_cell": false,
   "toc_position": {},
   "toc_section_display": true,
   "toc_window_display": false
  },
  "varInspector": {
   "cols": {
    "lenName": 16,
    "lenType": 16,
    "lenVar": 40
   },
   "kernels_config": {
    "python": {
     "delete_cmd_postfix": "",
     "delete_cmd_prefix": "del ",
     "library": "var_list.py",
     "varRefreshCmd": "print(var_dic_list())"
    },
    "r": {
     "delete_cmd_postfix": ") ",
     "delete_cmd_prefix": "rm(",
     "library": "var_list.r",
     "varRefreshCmd": "cat(var_dic_list()) "
    }
   },
   "types_to_exclude": [
    "module",
    "function",
    "builtin_function_or_method",
    "instance",
    "_Feature"
   ],
   "window_display": false
  }
 },
 "nbformat": 4,
 "nbformat_minor": 5
}
