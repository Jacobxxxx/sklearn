{
 "cells": [
  {
   "cell_type": "markdown",
   "id": "c6ec6ada",
   "metadata": {},
   "source": [
    "# Numpy矩阵运算有何不同"
   ]
  },
  {
   "cell_type": "code",
   "execution_count": 27,
   "id": "58a7cb62",
   "metadata": {},
   "outputs": [],
   "source": [
    "n=5000000\n",
    "x=[i for i in range(n)]"
   ]
  },
  {
   "cell_type": "code",
   "execution_count": 12,
   "id": "01a21b98",
   "metadata": {},
   "outputs": [
    {
     "data": {
      "text/plain": [
       "[0, 1, 2, 3, 4]"
      ]
     },
     "execution_count": 12,
     "metadata": {},
     "output_type": "execute_result"
    }
   ],
   "source": [
    "x"
   ]
  },
  {
   "cell_type": "markdown",
   "id": "0ca01cbf",
   "metadata": {},
   "source": [
    "### 将x中元素*2"
   ]
  },
  {
   "cell_type": "code",
   "execution_count": 13,
   "id": "34d797e2",
   "metadata": {},
   "outputs": [
    {
     "data": {
      "text/plain": [
       "[0, 1, 2, 3, 4, 0, 1, 2, 3, 4]"
      ]
     },
     "execution_count": 13,
     "metadata": {},
     "output_type": "execute_result"
    }
   ],
   "source": [
    "x*2"
   ]
  },
  {
   "cell_type": "code",
   "execution_count": 15,
   "id": "f9c44e07",
   "metadata": {},
   "outputs": [
    {
     "data": {
      "text/plain": [
       "[0, 1, 2, 3, 4, 0, 1, 2, 3, 4]"
      ]
     },
     "execution_count": 15,
     "metadata": {},
     "output_type": "execute_result"
    }
   ],
   "source": [
    "x+x"
   ]
  },
  {
   "cell_type": "code",
   "execution_count": 29,
   "id": "6295a1aa",
   "metadata": {},
   "outputs": [
    {
     "name": "stdout",
     "output_type": "stream",
     "text": [
      "CPU times: total: 281 ms\n",
      "Wall time: 266 ms\n"
     ]
    }
   ],
   "source": [
    "%%time\n",
    "y=[i*2 for i in x]#正确方法将x中每个元素*2"
   ]
  },
  {
   "cell_type": "markdown",
   "id": "e22d9ccb",
   "metadata": {},
   "source": [
    "### x*2在numpy的实现"
   ]
  },
  {
   "cell_type": "code",
   "execution_count": 31,
   "id": "a5634fde",
   "metadata": {},
   "outputs": [
    {
     "data": {
      "text/plain": [
       "array([      0,       1,       2, ..., 4999997, 4999998, 4999999])"
      ]
     },
     "execution_count": 31,
     "metadata": {},
     "output_type": "execute_result"
    }
   ],
   "source": [
    "import numpy as np\n",
    "X=np.arange(n)\n",
    "X"
   ]
  },
  {
   "cell_type": "code",
   "execution_count": 43,
   "id": "a5dbf341",
   "metadata": {},
   "outputs": [
    {
     "name": "stdout",
     "output_type": "stream",
     "text": [
      "CPU times: total: 15.6 ms\n",
      "Wall time: 9.99 ms\n"
     ]
    }
   ],
   "source": [
    "%%time\n",
    "Y=X*2#numpy快得多"
   ]
  },
  {
   "cell_type": "code",
   "execution_count": 44,
   "id": "b9daa2e5",
   "metadata": {},
   "outputs": [
    {
     "data": {
      "text/plain": [
       "array([ 0,  2,  4,  6,  8, 10, 12, 14, 16, 18])"
      ]
     },
     "execution_count": 44,
     "metadata": {},
     "output_type": "execute_result"
    }
   ],
   "source": [
    "Y[:10]"
   ]
  },
  {
   "cell_type": "markdown",
   "id": "be76ba36",
   "metadata": {},
   "source": [
    "## numpy 基础运算\n",
    "### 一元运算\n",
    "##### abs(绝对值),sqrt(开方),square(平方),exp(以e为底取指数),log(以e为底取对数),log2(以2为底取对数),log10(以10为底取对数),ceil(向下取整),floor(向下取整),round(四舍五入(奇进偶不进)),sin(正弦),cos(余弦),tan(正切)"
   ]
  },
  {
   "cell_type": "code",
   "execution_count": 45,
   "id": "7e7e0428",
   "metadata": {},
   "outputs": [
    {
     "data": {
      "text/plain": [
       "array([[ 1. ,  1.5,  2. ,  2.5,  3. ],\n",
       "       [ 3.5,  4. ,  4.5,  5. ,  5.5],\n",
       "       [ 6. ,  6.5,  7. ,  7.5,  8. ],\n",
       "       [ 8.5,  9. ,  9.5, 10. , 10.5]])"
      ]
     },
     "execution_count": 45,
     "metadata": {},
     "output_type": "execute_result"
    }
   ],
   "source": [
    "X=np.arange(1,11,0.5).reshape(4,5)\n",
    "X"
   ]
  },
  {
   "cell_type": "code",
   "execution_count": 46,
   "id": "74074cd4",
   "metadata": {},
   "outputs": [
    {
     "data": {
      "text/plain": [
       "array([[ 1. ,  1.5,  2. ,  2.5,  3. ],\n",
       "       [ 3.5,  4. ,  4.5,  5. ,  5.5],\n",
       "       [ 6. ,  6.5,  7. ,  7.5,  8. ],\n",
       "       [ 8.5,  9. ,  9.5, 10. , 10.5]])"
      ]
     },
     "execution_count": 46,
     "metadata": {},
     "output_type": "execute_result"
    }
   ],
   "source": [
    "np.abs(X)"
   ]
  },
  {
   "cell_type": "code",
   "execution_count": 47,
   "id": "8fb97c87",
   "metadata": {},
   "outputs": [
    {
     "data": {
      "text/plain": [
       "array([[1.        , 1.22474487, 1.41421356, 1.58113883, 1.73205081],\n",
       "       [1.87082869, 2.        , 2.12132034, 2.23606798, 2.34520788],\n",
       "       [2.44948974, 2.54950976, 2.64575131, 2.73861279, 2.82842712],\n",
       "       [2.91547595, 3.        , 3.082207  , 3.16227766, 3.24037035]])"
      ]
     },
     "execution_count": 47,
     "metadata": {},
     "output_type": "execute_result"
    }
   ],
   "source": [
    "np.sqrt(X)"
   ]
  },
  {
   "cell_type": "code",
   "execution_count": 48,
   "id": "cd839e9b",
   "metadata": {},
   "outputs": [
    {
     "data": {
      "text/plain": [
       "array([[  1.  ,   2.25,   4.  ,   6.25,   9.  ],\n",
       "       [ 12.25,  16.  ,  20.25,  25.  ,  30.25],\n",
       "       [ 36.  ,  42.25,  49.  ,  56.25,  64.  ],\n",
       "       [ 72.25,  81.  ,  90.25, 100.  , 110.25]])"
      ]
     },
     "execution_count": 48,
     "metadata": {},
     "output_type": "execute_result"
    }
   ],
   "source": [
    "np.square(X)"
   ]
  },
  {
   "cell_type": "code",
   "execution_count": 49,
   "id": "57be8eef",
   "metadata": {},
   "outputs": [
    {
     "data": {
      "text/plain": [
       "array([[2.71828183e+00, 4.48168907e+00, 7.38905610e+00, 1.21824940e+01,\n",
       "        2.00855369e+01],\n",
       "       [3.31154520e+01, 5.45981500e+01, 9.00171313e+01, 1.48413159e+02,\n",
       "        2.44691932e+02],\n",
       "       [4.03428793e+02, 6.65141633e+02, 1.09663316e+03, 1.80804241e+03,\n",
       "        2.98095799e+03],\n",
       "       [4.91476884e+03, 8.10308393e+03, 1.33597268e+04, 2.20264658e+04,\n",
       "        3.63155027e+04]])"
      ]
     },
     "execution_count": 49,
     "metadata": {},
     "output_type": "execute_result"
    }
   ],
   "source": [
    "np.exp(X)"
   ]
  },
  {
   "cell_type": "code",
   "execution_count": 50,
   "id": "1e586c8f",
   "metadata": {},
   "outputs": [
    {
     "data": {
      "text/plain": [
       "array([[0.        , 0.40546511, 0.69314718, 0.91629073, 1.09861229],\n",
       "       [1.25276297, 1.38629436, 1.5040774 , 1.60943791, 1.70474809],\n",
       "       [1.79175947, 1.87180218, 1.94591015, 2.01490302, 2.07944154],\n",
       "       [2.14006616, 2.19722458, 2.2512918 , 2.30258509, 2.35137526]])"
      ]
     },
     "execution_count": 50,
     "metadata": {},
     "output_type": "execute_result"
    }
   ],
   "source": [
    "np.log(X)"
   ]
  },
  {
   "cell_type": "code",
   "execution_count": 51,
   "id": "63c06470",
   "metadata": {},
   "outputs": [
    {
     "data": {
      "text/plain": [
       "array([[0.        , 0.5849625 , 1.        , 1.32192809, 1.5849625 ],\n",
       "       [1.80735492, 2.        , 2.169925  , 2.32192809, 2.45943162],\n",
       "       [2.5849625 , 2.70043972, 2.80735492, 2.9068906 , 3.        ],\n",
       "       [3.08746284, 3.169925  , 3.24792751, 3.32192809, 3.39231742]])"
      ]
     },
     "execution_count": 51,
     "metadata": {},
     "output_type": "execute_result"
    }
   ],
   "source": [
    "np.log2(X)"
   ]
  },
  {
   "cell_type": "code",
   "execution_count": 52,
   "id": "354358a9",
   "metadata": {},
   "outputs": [
    {
     "data": {
      "text/plain": [
       "array([[0.        , 0.17609126, 0.30103   , 0.39794001, 0.47712125],\n",
       "       [0.54406804, 0.60205999, 0.65321251, 0.69897   , 0.74036269],\n",
       "       [0.77815125, 0.81291336, 0.84509804, 0.87506126, 0.90308999],\n",
       "       [0.92941893, 0.95424251, 0.97772361, 1.        , 1.0211893 ]])"
      ]
     },
     "execution_count": 52,
     "metadata": {},
     "output_type": "execute_result"
    }
   ],
   "source": [
    "np.log10(X)"
   ]
  },
  {
   "cell_type": "code",
   "execution_count": 53,
   "id": "c0a3f249",
   "metadata": {},
   "outputs": [
    {
     "data": {
      "text/plain": [
       "array([[ 1. ,  1.5,  2. ,  2.5,  3. ],\n",
       "       [ 3.5,  4. ,  4.5,  5. ,  5.5],\n",
       "       [ 6. ,  6.5,  7. ,  7.5,  8. ],\n",
       "       [ 8.5,  9. ,  9.5, 10. , 10.5]])"
      ]
     },
     "execution_count": 53,
     "metadata": {},
     "output_type": "execute_result"
    }
   ],
   "source": [
    "X"
   ]
  },
  {
   "cell_type": "code",
   "execution_count": 54,
   "id": "fa0b6d2e",
   "metadata": {},
   "outputs": [
    {
     "data": {
      "text/plain": [
       "array([[ 1.,  2.,  2.,  3.,  3.],\n",
       "       [ 4.,  4.,  5.,  5.,  6.],\n",
       "       [ 6.,  7.,  7.,  8.,  8.],\n",
       "       [ 9.,  9., 10., 10., 11.]])"
      ]
     },
     "execution_count": 54,
     "metadata": {},
     "output_type": "execute_result"
    }
   ],
   "source": [
    "np.ceil(X)"
   ]
  },
  {
   "cell_type": "code",
   "execution_count": 55,
   "id": "ac7274ee",
   "metadata": {},
   "outputs": [
    {
     "data": {
      "text/plain": [
       "array([[ 1.,  1.,  2.,  2.,  3.],\n",
       "       [ 3.,  4.,  4.,  5.,  5.],\n",
       "       [ 6.,  6.,  7.,  7.,  8.],\n",
       "       [ 8.,  9.,  9., 10., 10.]])"
      ]
     },
     "execution_count": 55,
     "metadata": {},
     "output_type": "execute_result"
    }
   ],
   "source": [
    "np.floor(X)"
   ]
  },
  {
   "cell_type": "code",
   "execution_count": 56,
   "id": "52df14c9",
   "metadata": {},
   "outputs": [
    {
     "data": {
      "text/plain": [
       "array([[ 1.,  2.,  2.,  2.,  3.],\n",
       "       [ 4.,  4.,  4.,  5.,  6.],\n",
       "       [ 6.,  6.,  7.,  8.,  8.],\n",
       "       [ 8.,  9., 10., 10., 10.]])"
      ]
     },
     "execution_count": 56,
     "metadata": {},
     "output_type": "execute_result"
    }
   ],
   "source": [
    "np.round(X)"
   ]
  },
  {
   "cell_type": "code",
   "execution_count": 57,
   "id": "a0cecf04",
   "metadata": {},
   "outputs": [
    {
     "data": {
      "text/plain": [
       "array([[ 0.84147098,  0.99749499,  0.90929743,  0.59847214,  0.14112001],\n",
       "       [-0.35078323, -0.7568025 , -0.97753012, -0.95892427, -0.70554033],\n",
       "       [-0.2794155 ,  0.21511999,  0.6569866 ,  0.93799998,  0.98935825],\n",
       "       [ 0.79848711,  0.41211849, -0.07515112, -0.54402111, -0.87969576]])"
      ]
     },
     "execution_count": 57,
     "metadata": {},
     "output_type": "execute_result"
    }
   ],
   "source": [
    "np.sin(X)"
   ]
  },
  {
   "cell_type": "code",
   "execution_count": 58,
   "id": "06e47d6d",
   "metadata": {},
   "outputs": [
    {
     "data": {
      "text/plain": [
       "array([[ 0.54030231,  0.0707372 , -0.41614684, -0.80114362, -0.9899925 ],\n",
       "       [-0.93645669, -0.65364362, -0.2107958 ,  0.28366219,  0.70866977],\n",
       "       [ 0.96017029,  0.97658763,  0.75390225,  0.34663532, -0.14550003],\n",
       "       [-0.6020119 , -0.91113026, -0.99717216, -0.83907153, -0.47553693]])"
      ]
     },
     "execution_count": 58,
     "metadata": {},
     "output_type": "execute_result"
    }
   ],
   "source": [
    "np.cos(X)"
   ]
  },
  {
   "cell_type": "code",
   "execution_count": 59,
   "id": "6974c755",
   "metadata": {},
   "outputs": [
    {
     "data": {
      "text/plain": [
       "array([[ 1.55740772, 14.10141995, -2.18503986, -0.7470223 , -0.14254654],\n",
       "       [ 0.37458564,  1.15782128,  4.63733205, -3.38051501, -0.99558405],\n",
       "       [-0.29100619,  0.2202772 ,  0.87144798,  2.70601387, -6.79971146],\n",
       "       [-1.32636433, -0.45231566,  0.07536424,  0.64836083,  1.84989999]])"
      ]
     },
     "execution_count": 59,
     "metadata": {},
     "output_type": "execute_result"
    }
   ],
   "source": [
    "np.tan(X)"
   ]
  },
  {
   "cell_type": "code",
   "execution_count": 64,
   "id": "5d9cce05",
   "metadata": {},
   "outputs": [
    {
     "data": {
      "text/plain": [
       "array([[ 2. ,  2.5,  3. ,  3.5,  4. ],\n",
       "       [ 4.5,  5. ,  5.5,  6. ,  6.5],\n",
       "       [ 7. ,  7.5,  8. ,  8.5,  9. ],\n",
       "       [ 9.5, 10. , 10.5, 11. , 11.5]])"
      ]
     },
     "execution_count": 64,
     "metadata": {},
     "output_type": "execute_result"
    }
   ],
   "source": [
    "X+1"
   ]
  },
  {
   "cell_type": "code",
   "execution_count": 65,
   "id": "656f7ecc",
   "metadata": {},
   "outputs": [
    {
     "data": {
      "text/plain": [
       "array([[ 2. ,  2.5,  3. ,  3.5,  4. ],\n",
       "       [ 4.5,  5. ,  5.5,  6. ,  6.5],\n",
       "       [ 7. ,  7.5,  8. ,  8.5,  9. ],\n",
       "       [ 9.5, 10. , 10.5, 11. , 11.5]])"
      ]
     },
     "execution_count": 65,
     "metadata": {},
     "output_type": "execute_result"
    }
   ],
   "source": [
    "np.add(X,1)"
   ]
  },
  {
   "cell_type": "code",
   "execution_count": 66,
   "id": "46f288dc",
   "metadata": {},
   "outputs": [
    {
     "data": {
      "text/plain": [
       "array([[0. , 0.5, 1. , 1.5, 2. ],\n",
       "       [2.5, 3. , 3.5, 4. , 4.5],\n",
       "       [5. , 5.5, 6. , 6.5, 7. ],\n",
       "       [7.5, 8. , 8.5, 9. , 9.5]])"
      ]
     },
     "execution_count": 66,
     "metadata": {},
     "output_type": "execute_result"
    }
   ],
   "source": [
    "X-1"
   ]
  },
  {
   "cell_type": "code",
   "execution_count": 67,
   "id": "12a73f20",
   "metadata": {},
   "outputs": [
    {
     "data": {
      "text/plain": [
       "array([[ 2.,  3.,  4.,  5.,  6.],\n",
       "       [ 7.,  8.,  9., 10., 11.],\n",
       "       [12., 13., 14., 15., 16.],\n",
       "       [17., 18., 19., 20., 21.]])"
      ]
     },
     "execution_count": 67,
     "metadata": {},
     "output_type": "execute_result"
    }
   ],
   "source": [
    "X*2"
   ]
  },
  {
   "cell_type": "code",
   "execution_count": 68,
   "id": "615fc427",
   "metadata": {},
   "outputs": [
    {
     "data": {
      "text/plain": [
       "array([[0.5 , 0.75, 1.  , 1.25, 1.5 ],\n",
       "       [1.75, 2.  , 2.25, 2.5 , 2.75],\n",
       "       [3.  , 3.25, 3.5 , 3.75, 4.  ],\n",
       "       [4.25, 4.5 , 4.75, 5.  , 5.25]])"
      ]
     },
     "execution_count": 68,
     "metadata": {},
     "output_type": "execute_result"
    }
   ],
   "source": [
    "X/2"
   ]
  },
  {
   "cell_type": "code",
   "execution_count": 69,
   "id": "cd6b9cdb",
   "metadata": {},
   "outputs": [
    {
     "data": {
      "text/plain": [
       "array([[2.        , 1.33333333, 1.        , 0.8       , 0.66666667],\n",
       "       [0.57142857, 0.5       , 0.44444444, 0.4       , 0.36363636],\n",
       "       [0.33333333, 0.30769231, 0.28571429, 0.26666667, 0.25      ],\n",
       "       [0.23529412, 0.22222222, 0.21052632, 0.2       , 0.19047619]])"
      ]
     },
     "execution_count": 69,
     "metadata": {},
     "output_type": "execute_result"
    }
   ],
   "source": [
    "2/X"
   ]
  },
  {
   "cell_type": "code",
   "execution_count": 70,
   "id": "18912ca8",
   "metadata": {},
   "outputs": [
    {
     "data": {
      "text/plain": [
       "array([[0., 0., 1., 1., 1.],\n",
       "       [1., 2., 2., 2., 2.],\n",
       "       [3., 3., 3., 3., 4.],\n",
       "       [4., 4., 4., 5., 5.]])"
      ]
     },
     "execution_count": 70,
     "metadata": {},
     "output_type": "execute_result"
    }
   ],
   "source": [
    "X//2"
   ]
  },
  {
   "cell_type": "code",
   "execution_count": 71,
   "id": "9d06027a",
   "metadata": {},
   "outputs": [
    {
     "data": {
      "text/plain": [
       "array([[1. , 1.5, 0. , 0.5, 1. ],\n",
       "       [1.5, 0. , 0.5, 1. , 1.5],\n",
       "       [0. , 0.5, 1. , 1.5, 0. ],\n",
       "       [0.5, 1. , 1.5, 0. , 0.5]])"
      ]
     },
     "execution_count": 71,
     "metadata": {},
     "output_type": "execute_result"
    }
   ],
   "source": [
    "X%2"
   ]
  },
  {
   "cell_type": "code",
   "execution_count": 72,
   "id": "15cffb1d",
   "metadata": {},
   "outputs": [
    {
     "data": {
      "text/plain": [
       "array([[  1.  ,   2.25,   4.  ,   6.25,   9.  ],\n",
       "       [ 12.25,  16.  ,  20.25,  25.  ,  30.25],\n",
       "       [ 36.  ,  42.25,  49.  ,  56.25,  64.  ],\n",
       "       [ 72.25,  81.  ,  90.25, 100.  , 110.25]])"
      ]
     },
     "execution_count": 72,
     "metadata": {},
     "output_type": "execute_result"
    }
   ],
   "source": [
    "X**2"
   ]
  },
  {
   "cell_type": "markdown",
   "id": "33e51b94",
   "metadata": {},
   "source": [
    "### 矩阵运算\n",
    "#### +，-，*(数值乘),/,dot(矩阵乘法),T(求转置),transpose(对二维相当于求转置),linalg.inv(求逆),.linalg.det(),linalg.eig(),"
   ]
  },
  {
   "cell_type": "code",
   "execution_count": 73,
   "id": "3ceedcee",
   "metadata": {},
   "outputs": [],
   "source": [
    "X=np.linspace(10,40,4).reshape(2,2)\n",
    "Y=np.linspace(1,4,4).reshape(2,2)"
   ]
  },
  {
   "cell_type": "code",
   "execution_count": 74,
   "id": "0260bf36",
   "metadata": {},
   "outputs": [
    {
     "data": {
      "text/plain": [
       "(array([[10., 20.],\n",
       "        [30., 40.]]),\n",
       " array([[1., 2.],\n",
       "        [3., 4.]]))"
      ]
     },
     "execution_count": 74,
     "metadata": {},
     "output_type": "execute_result"
    }
   ],
   "source": [
    "X,Y"
   ]
  },
  {
   "cell_type": "code",
   "execution_count": 75,
   "id": "16b0edb9",
   "metadata": {},
   "outputs": [
    {
     "data": {
      "text/plain": [
       "array([[11., 22.],\n",
       "       [33., 44.]])"
      ]
     },
     "execution_count": 75,
     "metadata": {},
     "output_type": "execute_result"
    }
   ],
   "source": [
    "X+Y"
   ]
  },
  {
   "cell_type": "code",
   "execution_count": 76,
   "id": "418d0ab9",
   "metadata": {},
   "outputs": [
    {
     "data": {
      "text/plain": [
       "array([[ 9., 18.],\n",
       "       [27., 36.]])"
      ]
     },
     "execution_count": 76,
     "metadata": {},
     "output_type": "execute_result"
    }
   ],
   "source": [
    "X-Y"
   ]
  },
  {
   "cell_type": "code",
   "execution_count": 78,
   "id": "088dd89e",
   "metadata": {},
   "outputs": [
    {
     "data": {
      "text/plain": [
       "array([[ 10.,  40.],\n",
       "       [ 90., 160.]])"
      ]
     },
     "execution_count": 78,
     "metadata": {},
     "output_type": "execute_result"
    }
   ],
   "source": [
    "X*Y"
   ]
  },
  {
   "cell_type": "code",
   "execution_count": 80,
   "id": "63ad4983",
   "metadata": {},
   "outputs": [
    {
     "data": {
      "text/plain": [
       "array([[ 70., 100.],\n",
       "       [150., 220.]])"
      ]
     },
     "execution_count": 80,
     "metadata": {},
     "output_type": "execute_result"
    }
   ],
   "source": [
    "X.dot(Y)"
   ]
  },
  {
   "cell_type": "code",
   "execution_count": 81,
   "id": "3455d03e",
   "metadata": {},
   "outputs": [
    {
     "data": {
      "text/plain": [
       "array([[10., 10.],\n",
       "       [10., 10.]])"
      ]
     },
     "execution_count": 81,
     "metadata": {},
     "output_type": "execute_result"
    }
   ],
   "source": [
    "X/Y"
   ]
  },
  {
   "cell_type": "code",
   "execution_count": 82,
   "id": "51386c32",
   "metadata": {},
   "outputs": [
    {
     "data": {
      "text/plain": [
       "array([[10., 30.],\n",
       "       [20., 40.]])"
      ]
     },
     "execution_count": 82,
     "metadata": {},
     "output_type": "execute_result"
    }
   ],
   "source": [
    "X.T"
   ]
  },
  {
   "cell_type": "code",
   "execution_count": 83,
   "id": "c51cef9b",
   "metadata": {},
   "outputs": [
    {
     "data": {
      "text/plain": [
       "array([[10., 30.],\n",
       "       [20., 40.]])"
      ]
     },
     "execution_count": 83,
     "metadata": {},
     "output_type": "execute_result"
    }
   ],
   "source": [
    "np.transpose(X)"
   ]
  },
  {
   "cell_type": "code",
   "execution_count": 89,
   "id": "bca9aa61",
   "metadata": {},
   "outputs": [],
   "source": [
    "V=np.linalg.inv(X)#得是方阵"
   ]
  },
  {
   "cell_type": "code",
   "execution_count": 86,
   "id": "893e6f37",
   "metadata": {},
   "outputs": [
    {
     "data": {
      "text/plain": [
       "array([[-0.2 ,  0.1 ],\n",
       "       [ 0.15, -0.05]])"
      ]
     },
     "execution_count": 86,
     "metadata": {},
     "output_type": "execute_result"
    }
   ],
   "source": [
    "V"
   ]
  },
  {
   "cell_type": "code",
   "execution_count": 87,
   "id": "8b8aff22",
   "metadata": {},
   "outputs": [
    {
     "data": {
      "text/plain": [
       "array([[1.00000000e+00, 1.11022302e-16],\n",
       "       [0.00000000e+00, 1.00000000e+00]])"
      ]
     },
     "execution_count": 87,
     "metadata": {},
     "output_type": "execute_result"
    }
   ],
   "source": [
    "X.dot(V)"
   ]
  },
  {
   "cell_type": "code",
   "execution_count": 88,
   "id": "df9a0630",
   "metadata": {},
   "outputs": [
    {
     "data": {
      "text/plain": [
       "array([[1.0000000e+00, 8.8817842e-16],\n",
       "       [0.0000000e+00, 1.0000000e+00]])"
      ]
     },
     "execution_count": 88,
     "metadata": {},
     "output_type": "execute_result"
    }
   ],
   "source": [
    "V.dot(X)"
   ]
  },
  {
   "cell_type": "code",
   "execution_count": 90,
   "id": "73eca9f2",
   "metadata": {},
   "outputs": [
    {
     "data": {
      "text/plain": [
       "-200.0000000000001"
      ]
     },
     "execution_count": 90,
     "metadata": {},
     "output_type": "execute_result"
    }
   ],
   "source": [
    "np.linalg.det(X)"
   ]
  },
  {
   "cell_type": "code",
   "execution_count": 92,
   "id": "b56312b0",
   "metadata": {},
   "outputs": [
    {
     "data": {
      "text/plain": [
       "(array([-3.72281323, 53.72281323]),\n",
       " array([[-0.82456484, -0.41597356],\n",
       "        [ 0.56576746, -0.90937671]]))"
      ]
     },
     "execution_count": 92,
     "metadata": {},
     "output_type": "execute_result"
    }
   ],
   "source": [
    "np.linalg.eig(X)"
   ]
  }
 ],
 "metadata": {
  "kernelspec": {
   "display_name": "Python 3 (ipykernel)",
   "language": "python",
   "name": "python3"
  },
  "language_info": {
   "codemirror_mode": {
    "name": "ipython",
    "version": 3
   },
   "file_extension": ".py",
   "mimetype": "text/x-python",
   "name": "python",
   "nbconvert_exporter": "python",
   "pygments_lexer": "ipython3",
   "version": "3.11.5"
  },
  "toc": {
   "base_numbering": 1,
   "nav_menu": {},
   "number_sections": true,
   "sideBar": true,
   "skip_h1_title": false,
   "title_cell": "Table of Contents",
   "title_sidebar": "Contents",
   "toc_cell": false,
   "toc_position": {},
   "toc_section_display": true,
   "toc_window_display": false
  },
  "varInspector": {
   "cols": {
    "lenName": 16,
    "lenType": 16,
    "lenVar": 40
   },
   "kernels_config": {
    "python": {
     "delete_cmd_postfix": "",
     "delete_cmd_prefix": "del ",
     "library": "var_list.py",
     "varRefreshCmd": "print(var_dic_list())"
    },
    "r": {
     "delete_cmd_postfix": ") ",
     "delete_cmd_prefix": "rm(",
     "library": "var_list.r",
     "varRefreshCmd": "cat(var_dic_list()) "
    }
   },
   "types_to_exclude": [
    "module",
    "function",
    "builtin_function_or_method",
    "instance",
    "_Feature"
   ],
   "window_display": false
  }
 },
 "nbformat": 4,
 "nbformat_minor": 5
}
