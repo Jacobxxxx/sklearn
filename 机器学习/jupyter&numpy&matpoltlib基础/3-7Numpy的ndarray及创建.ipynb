{
 "cells": [
  {
   "cell_type": "code",
   "execution_count": 1,
   "id": "cb7d66e3",
   "metadata": {},
   "outputs": [],
   "source": [
    "import numpy as np"
   ]
  },
  {
   "cell_type": "markdown",
   "id": "2fcd4a04",
   "metadata": {},
   "source": [
    "#  创建Numpy数组"
   ]
  },
  {
   "cell_type": "code",
   "execution_count": 2,
   "id": "ffcf116f",
   "metadata": {},
   "outputs": [
    {
     "data": {
      "text/plain": [
       "array([1, 2, 3, 4, 5, 6])"
      ]
     },
     "execution_count": 2,
     "metadata": {},
     "output_type": "execute_result"
    }
   ],
   "source": [
    "a = np.array([1,2,3,4,5,6])\n",
    "a"
   ]
  },
  {
   "cell_type": "code",
   "execution_count": 3,
   "id": "c90dffa0",
   "metadata": {},
   "outputs": [
    {
     "data": {
      "text/plain": [
       "array([[1, 2, 3],\n",
       "       [4, 5, 6]])"
      ]
     },
     "execution_count": 3,
     "metadata": {},
     "output_type": "execute_result"
    }
   ],
   "source": [
    "A=np.array([\n",
    "    [1,2,3],\n",
    "    [4,5,6]\n",
    "])\n",
    "A"
   ]
  },
  {
   "cell_type": "markdown",
   "id": "4621b95d",
   "metadata": {},
   "source": [
    "# Numpy 数组的属性\n",
    "### ndim维度数量\n",
    "### shape 数组的形状或维度\n",
    "### size 数组中元素总个数\n",
    "### dtype 数组中的元素类型\n"
   ]
  },
  {
   "cell_type": "code",
   "execution_count": 4,
   "id": "35f0ab33",
   "metadata": {},
   "outputs": [
    {
     "data": {
      "text/plain": [
       "1"
      ]
     },
     "execution_count": 4,
     "metadata": {},
     "output_type": "execute_result"
    }
   ],
   "source": [
    "a.ndim"
   ]
  },
  {
   "cell_type": "code",
   "execution_count": 5,
   "id": "c5b1771b",
   "metadata": {},
   "outputs": [
    {
     "data": {
      "text/plain": [
       "2"
      ]
     },
     "execution_count": 5,
     "metadata": {},
     "output_type": "execute_result"
    }
   ],
   "source": [
    "A.ndim"
   ]
  },
  {
   "cell_type": "code",
   "execution_count": 6,
   "id": "3dc61c2f",
   "metadata": {},
   "outputs": [
    {
     "data": {
      "text/plain": [
       "(6,)"
      ]
     },
     "execution_count": 6,
     "metadata": {},
     "output_type": "execute_result"
    }
   ],
   "source": [
    "a.shape"
   ]
  },
  {
   "cell_type": "code",
   "execution_count": 7,
   "id": "b168720a",
   "metadata": {},
   "outputs": [
    {
     "data": {
      "text/plain": [
       "(2, 3)"
      ]
     },
     "execution_count": 7,
     "metadata": {},
     "output_type": "execute_result"
    }
   ],
   "source": [
    "A.shape"
   ]
  },
  {
   "cell_type": "code",
   "execution_count": 8,
   "id": "ef2ac270",
   "metadata": {},
   "outputs": [
    {
     "data": {
      "text/plain": [
       "6"
      ]
     },
     "execution_count": 8,
     "metadata": {},
     "output_type": "execute_result"
    }
   ],
   "source": [
    "a.size"
   ]
  },
  {
   "cell_type": "code",
   "execution_count": 9,
   "id": "b374274f",
   "metadata": {},
   "outputs": [
    {
     "data": {
      "text/plain": [
       "6"
      ]
     },
     "execution_count": 9,
     "metadata": {},
     "output_type": "execute_result"
    }
   ],
   "source": [
    "A.size"
   ]
  },
  {
   "cell_type": "code",
   "execution_count": 10,
   "id": "13a8996a",
   "metadata": {},
   "outputs": [
    {
     "data": {
      "text/plain": [
       "dtype('int32')"
      ]
     },
     "execution_count": 10,
     "metadata": {},
     "output_type": "execute_result"
    }
   ],
   "source": [
    "a.dtype"
   ]
  },
  {
   "cell_type": "code",
   "execution_count": 11,
   "id": "e81673f8",
   "metadata": {},
   "outputs": [
    {
     "data": {
      "text/plain": [
       "dtype('int32')"
      ]
     },
     "execution_count": 11,
     "metadata": {},
     "output_type": "execute_result"
    }
   ],
   "source": [
    "A.dtype"
   ]
  },
  {
   "cell_type": "markdown",
   "id": "164e1d20",
   "metadata": {},
   "source": [
    "# 创建数组的便捷函数\n",
    "### ones创建全是1的数组：第一个参数为数组形状,第二个参数为元素类型，一维(n，dtype)，二维（（n,m）,dtype）元素类型可省略\n",
    "### np.ones_like(数组名)创建一个形状完全相同但全为1的矩阵"
   ]
  },
  {
   "cell_type": "code",
   "execution_count": 12,
   "id": "ca87a360",
   "metadata": {},
   "outputs": [
    {
     "data": {
      "text/plain": [
       "array([1., 1., 1., 1., 1., 1., 1., 1.])"
      ]
     },
     "execution_count": 12,
     "metadata": {},
     "output_type": "execute_result"
    }
   ],
   "source": [
    "np.ones(8)"
   ]
  },
  {
   "cell_type": "code",
   "execution_count": 13,
   "id": "e3bbaaca",
   "metadata": {},
   "outputs": [
    {
     "data": {
      "text/plain": [
       "dtype('float64')"
      ]
     },
     "execution_count": 13,
     "metadata": {},
     "output_type": "execute_result"
    }
   ],
   "source": [
    "np.ones(8).dtype"
   ]
  },
  {
   "cell_type": "code",
   "execution_count": 14,
   "id": "43b9a2a9",
   "metadata": {},
   "outputs": [
    {
     "data": {
      "text/plain": [
       "array([1, 1, 1, 1, 1, 1, 1, 1], dtype=int64)"
      ]
     },
     "execution_count": 14,
     "metadata": {},
     "output_type": "execute_result"
    }
   ],
   "source": [
    "np.ones(8,dtype='int64')"
   ]
  },
  {
   "cell_type": "code",
   "execution_count": 15,
   "id": "f796116e",
   "metadata": {},
   "outputs": [
    {
     "data": {
      "text/plain": [
       "array([[1., 1., 1., 1.],\n",
       "       [1., 1., 1., 1.]])"
      ]
     },
     "execution_count": 15,
     "metadata": {},
     "output_type": "execute_result"
    }
   ],
   "source": [
    "np.ones(shape=(2,4))#np.ones((2,4))"
   ]
  },
  {
   "cell_type": "code",
   "execution_count": 16,
   "id": "dd9dc860",
   "metadata": {},
   "outputs": [
    {
     "data": {
      "text/plain": [
       "array([[1, 1, 1],\n",
       "       [1, 1, 1]])"
      ]
     },
     "execution_count": 16,
     "metadata": {},
     "output_type": "execute_result"
    }
   ],
   "source": [
    "np.ones_like(A)"
   ]
  },
  {
   "cell_type": "markdown",
   "id": "50ea1d48",
   "metadata": {},
   "source": [
    "## np.zeros用法与ones完全相同不过元素均为0"
   ]
  },
  {
   "cell_type": "code",
   "execution_count": 17,
   "id": "183399eb",
   "metadata": {},
   "outputs": [
    {
     "data": {
      "text/plain": [
       "array([0., 0., 0., 0., 0., 0., 0., 0.])"
      ]
     },
     "execution_count": 17,
     "metadata": {},
     "output_type": "execute_result"
    }
   ],
   "source": [
    "np.zeros(8)"
   ]
  },
  {
   "cell_type": "code",
   "execution_count": 18,
   "id": "8b50d241",
   "metadata": {},
   "outputs": [
    {
     "data": {
      "text/plain": [
       "array([[0., 0., 0., 0.],\n",
       "       [0., 0., 0., 0.]])"
      ]
     },
     "execution_count": 18,
     "metadata": {},
     "output_type": "execute_result"
    }
   ],
   "source": [
    "np.zeros((2,4))"
   ]
  },
  {
   "cell_type": "code",
   "execution_count": 19,
   "id": "a1e98c31",
   "metadata": {},
   "outputs": [
    {
     "data": {
      "text/plain": [
       "array([[0, 0, 0],\n",
       "       [0, 0, 0]])"
      ]
     },
     "execution_count": 19,
     "metadata": {},
     "output_type": "execute_result"
    }
   ],
   "source": [
    "np.zeros_like(A)"
   ]
  },
  {
   "cell_type": "markdown",
   "id": "6896b78c",
   "metadata": {},
   "source": [
    "## np.full指定数值，第一个参数数组形状，第二个指定值，第三个元素类型，其余用法同上"
   ]
  },
  {
   "cell_type": "code",
   "execution_count": 20,
   "id": "875bb0bf",
   "metadata": {},
   "outputs": [
    {
     "data": {
      "text/plain": [
       "array([666, 666, 666, 666, 666, 666, 666, 666])"
      ]
     },
     "execution_count": 20,
     "metadata": {},
     "output_type": "execute_result"
    }
   ],
   "source": [
    "np.full(8,666)"
   ]
  },
  {
   "cell_type": "code",
   "execution_count": 21,
   "id": "b3199065",
   "metadata": {},
   "outputs": [
    {
     "data": {
      "text/plain": [
       "array([[666, 666, 666, 666],\n",
       "       [666, 666, 666, 666]])"
      ]
     },
     "execution_count": 21,
     "metadata": {},
     "output_type": "execute_result"
    }
   ],
   "source": [
    "np.full((2,4),666)"
   ]
  },
  {
   "cell_type": "code",
   "execution_count": 22,
   "id": "bed98a16",
   "metadata": {},
   "outputs": [
    {
     "data": {
      "text/plain": [
       "array([666, 666, 666, 666, 666, 666, 666, 666], dtype=int64)"
      ]
     },
     "execution_count": 22,
     "metadata": {},
     "output_type": "execute_result"
    }
   ],
   "source": [
    "np.full(8,666,dtype='int64')"
   ]
  },
  {
   "cell_type": "code",
   "execution_count": 23,
   "id": "6ec1d30b",
   "metadata": {},
   "outputs": [
    {
     "data": {
      "text/plain": [
       "array([[666, 666, 666],\n",
       "       [666, 666, 666]])"
      ]
     },
     "execution_count": 23,
     "metadata": {},
     "output_type": "execute_result"
    }
   ],
   "source": [
    "np.full_like(A,666)"
   ]
  },
  {
   "cell_type": "markdown",
   "id": "1d7e2026",
   "metadata": {},
   "source": [
    "##  np.empty创建一个空数组数值全为随即值"
   ]
  },
  {
   "cell_type": "code",
   "execution_count": 24,
   "id": "e46e316f",
   "metadata": {},
   "outputs": [
    {
     "data": {
      "text/plain": [
       "array([6.23042070e-307, 4.67296746e-307, 1.69121096e-306, 8.45593934e-307,\n",
       "       1.89146896e-307, 7.56571288e-307, 3.11525958e-307, 1.24610723e-306,\n",
       "       1.29061142e-306, 5.53353523e-322])"
      ]
     },
     "execution_count": 24,
     "metadata": {},
     "output_type": "execute_result"
    }
   ],
   "source": [
    "np.empty(10)"
   ]
  },
  {
   "cell_type": "code",
   "execution_count": 25,
   "id": "f3b10c83",
   "metadata": {},
   "outputs": [
    {
     "data": {
      "text/plain": [
       "array([[1.31870854e-311, 3.16202013e-322, 0.00000000e+000,\n",
       "        0.00000000e+000],\n",
       "       [0.00000000e+000, 4.01471603e-057, 1.39511377e-075,\n",
       "        7.46185552e-038],\n",
       "       [7.60117505e-042, 9.68037251e-071, 2.44798521e-056,\n",
       "        3.30462159e+179]])"
      ]
     },
     "execution_count": 25,
     "metadata": {},
     "output_type": "execute_result"
    }
   ],
   "source": [
    "np.empty((3,4))"
   ]
  },
  {
   "cell_type": "code",
   "execution_count": 26,
   "id": "75335824",
   "metadata": {},
   "outputs": [
    {
     "data": {
      "text/plain": [
       "array([[0, 0, 0],\n",
       "       [0, 0, 0]])"
      ]
     },
     "execution_count": 26,
     "metadata": {},
     "output_type": "execute_result"
    }
   ],
   "source": [
    "np.empty_like(A)"
   ]
  },
  {
   "cell_type": "markdown",
   "id": "2634f1dc",
   "metadata": {},
   "source": [
    "## arange "
   ]
  },
  {
   "cell_type": "code",
   "execution_count": 27,
   "id": "cd6728e6",
   "metadata": {},
   "outputs": [
    {
     "data": {
      "text/plain": [
       "array([0, 1, 2, 3, 4, 5, 6, 7, 8, 9])"
      ]
     },
     "execution_count": 27,
     "metadata": {},
     "output_type": "execute_result"
    }
   ],
   "source": [
    "np.arange(10)#创建一个10个元素等差数组"
   ]
  },
  {
   "cell_type": "code",
   "execution_count": 28,
   "id": "20c6f0ee",
   "metadata": {},
   "outputs": [
    {
     "data": {
      "text/plain": [
       "array([1, 3, 5, 7, 9])"
      ]
     },
     "execution_count": 28,
     "metadata": {},
     "output_type": "execute_result"
    }
   ],
   "source": [
    "np.arange(1,10,2)#第一个参数起始位，第二个参数截止位但不包含，第三个参数步长"
   ]
  },
  {
   "cell_type": "code",
   "execution_count": 29,
   "id": "d9dab5ef",
   "metadata": {},
   "outputs": [
    {
     "data": {
      "text/plain": [
       "array([[0, 1, 2, 3, 4],\n",
       "       [5, 6, 7, 8, 9]])"
      ]
     },
     "execution_count": 29,
     "metadata": {},
     "output_type": "execute_result"
    }
   ],
   "source": [
    "np.arange(10).reshape(2,5)#将数组形状改变"
   ]
  },
  {
   "cell_type": "markdown",
   "id": "3c72cf74",
   "metadata": {},
   "source": [
    "## linspace也能创建等差数组，但可以指定数组数量"
   ]
  },
  {
   "cell_type": "code",
   "execution_count": 30,
   "id": "6f4702a7",
   "metadata": {},
   "outputs": [
    {
     "data": {
      "text/plain": [
       "array([ 0. ,  2.5,  5. ,  7.5, 10. ])"
      ]
     },
     "execution_count": 30,
     "metadata": {},
     "output_type": "execute_result"
    }
   ],
   "source": [
    "np.linspace(0,10,5)#起始位，终止位包含，范围区间内生成数的数量"
   ]
  },
  {
   "cell_type": "markdown",
   "id": "8f49fccd",
   "metadata": {},
   "source": [
    "# random 模块\n",
    "## random"
   ]
  },
  {
   "cell_type": "code",
   "execution_count": 31,
   "id": "6dae97b5",
   "metadata": {},
   "outputs": [
    {
     "data": {
      "text/plain": [
       "0.5756280927384909"
      ]
     },
     "execution_count": 31,
     "metadata": {},
     "output_type": "execute_result"
    }
   ],
   "source": [
    "np.random.random()#返回0到1的随机数不包含1"
   ]
  },
  {
   "cell_type": "code",
   "execution_count": 32,
   "id": "579993e0",
   "metadata": {},
   "outputs": [
    {
     "data": {
      "text/plain": [
       "array([0.42777391, 0.03338251, 0.435999  , 0.61853333, 0.82372239])"
      ]
     },
     "execution_count": 32,
     "metadata": {},
     "output_type": "execute_result"
    }
   ],
   "source": [
    "np.random.random(5)#返回n个0到1的随机数"
   ]
  },
  {
   "cell_type": "code",
   "execution_count": 2,
   "id": "386e78ac",
   "metadata": {
    "ExecuteTime": {
     "end_time": "2024-02-13T08:20:22.264254Z",
     "start_time": "2024-02-13T08:20:22.250893Z"
    }
   },
   "outputs": [
    {
     "data": {
      "text/plain": [
       "array([[0.92398757, 0.85558067, 0.23281428, 0.27227883],\n",
       "       [0.77328539, 0.66008713, 0.04025843, 0.72525644]])"
      ]
     },
     "execution_count": 2,
     "metadata": {},
     "output_type": "execute_result"
    }
   ],
   "source": [
    "np.random.random((2,4))#返回二维数组，即参数为数组形状"
   ]
  },
  {
   "cell_type": "markdown",
   "id": "864ce205",
   "metadata": {},
   "source": [
    "## rand\n",
    "## 与random用法相同，唯一不同是random传入元组，rand不用传入元组"
   ]
  },
  {
   "cell_type": "code",
   "execution_count": 34,
   "id": "8d39dcbb",
   "metadata": {},
   "outputs": [
    {
     "data": {
      "text/plain": [
       "0.2953723997404256"
      ]
     },
     "execution_count": 34,
     "metadata": {},
     "output_type": "execute_result"
    }
   ],
   "source": [
    "np.random.rand()"
   ]
  },
  {
   "cell_type": "code",
   "execution_count": 35,
   "id": "555e5031",
   "metadata": {},
   "outputs": [
    {
     "data": {
      "text/plain": [
       "array([0.18624173, 0.29104033, 0.96308877, 0.995852  , 0.19208419])"
      ]
     },
     "execution_count": 35,
     "metadata": {},
     "output_type": "execute_result"
    }
   ],
   "source": [
    "np.random.rand(5)"
   ]
  },
  {
   "cell_type": "code",
   "execution_count": 36,
   "id": "5cfc06c0",
   "metadata": {},
   "outputs": [
    {
     "data": {
      "text/plain": [
       "array([[[0.65254763, 0.73186303, 0.34191884, 0.27497439],\n",
       "        [0.63655506, 0.08368424, 0.97305793, 0.60455621],\n",
       "        [0.42255922, 0.91574736, 0.1769369 , 0.43866625]],\n",
       "\n",
       "       [[0.80693309, 0.90619737, 0.00213923, 0.88903332],\n",
       "        [0.6768182 , 0.1011234 , 0.35256731, 0.64098086],\n",
       "        [0.94909562, 0.56447012, 0.14640666, 0.12844225]]])"
      ]
     },
     "execution_count": 36,
     "metadata": {},
     "output_type": "execute_result"
    }
   ],
   "source": [
    "np.random.rand(2,3,4)"
   ]
  },
  {
   "cell_type": "markdown",
   "id": "e5ba2c00",
   "metadata": {},
   "source": [
    "## randint 获得随机整数"
   ]
  },
  {
   "cell_type": "code",
   "execution_count": 37,
   "id": "16178eb6",
   "metadata": {},
   "outputs": [
    {
     "data": {
      "text/plain": [
       "2"
      ]
     },
     "execution_count": 37,
     "metadata": {},
     "output_type": "execute_result"
    }
   ],
   "source": [
    "np.random.randint(5)#返回0到5之间的随机数不包含5"
   ]
  },
  {
   "cell_type": "code",
   "execution_count": 38,
   "id": "0440a329",
   "metadata": {},
   "outputs": [
    {
     "data": {
      "text/plain": [
       "6"
      ]
     },
     "execution_count": 38,
     "metadata": {},
     "output_type": "execute_result"
    }
   ],
   "source": [
    "np.random.randint(5,10)#返回5到10之间的随机数包含5不包含10"
   ]
  },
  {
   "cell_type": "code",
   "execution_count": 39,
   "id": "1185ea2c",
   "metadata": {},
   "outputs": [
    {
     "data": {
      "text/plain": [
       "array([9, 8, 8, 9, 8, 6, 5, 6])"
      ]
     },
     "execution_count": 39,
     "metadata": {},
     "output_type": "execute_result"
    }
   ],
   "source": [
    "np.random.randint(5,10,8)#5到10之间生成8个随机数，np.random.randint(5,10,size=8)size参数可以传入元组见下"
   ]
  },
  {
   "cell_type": "code",
   "execution_count": 40,
   "id": "ecfc3a9a",
   "metadata": {},
   "outputs": [
    {
     "data": {
      "text/plain": [
       "array([[9, 5, 7, 9],\n",
       "       [6, 5, 6, 6]])"
      ]
     },
     "execution_count": 40,
     "metadata": {},
     "output_type": "execute_result"
    }
   ],
   "source": [
    "np.random.randint(5,10,(2,4))#np.random.randint(5,10,size=(2,4))"
   ]
  },
  {
   "cell_type": "markdown",
   "id": "4d3acb39",
   "metadata": {},
   "source": [
    "## seed 让随机数每次随机结果都一样"
   ]
  },
  {
   "cell_type": "code",
   "execution_count": 17,
   "id": "c0dfe1d5",
   "metadata": {
    "ExecuteTime": {
     "end_time": "2024-02-13T08:21:18.607863Z",
     "start_time": "2024-02-13T08:21:18.601271Z"
    }
   },
   "outputs": [
    {
     "data": {
      "text/plain": [
       "array([[9, 9, 8, 8],\n",
       "       [9, 8, 9, 7]])"
      ]
     },
     "execution_count": 17,
     "metadata": {},
     "output_type": "execute_result"
    }
   ],
   "source": [
    "np.random.seed(333)#参数值必须有但随便取\n",
    "np.random.randint(5,10,(2,4))"
   ]
  },
  {
   "cell_type": "markdown",
   "id": "a27cf267",
   "metadata": {},
   "source": [
    "## randn 生成具有标准正态分布的随机数"
   ]
  },
  {
   "cell_type": "code",
   "execution_count": 42,
   "id": "dae0cce3",
   "metadata": {},
   "outputs": [
    {
     "data": {
      "text/plain": [
       "array([ 0.52493957, -0.35783583, -0.72820492, -0.64208645, -0.31704766])"
      ]
     },
     "execution_count": 42,
     "metadata": {},
     "output_type": "execute_result"
    }
   ],
   "source": [
    "np.random.randn(5)"
   ]
  },
  {
   "cell_type": "code",
   "execution_count": 43,
   "id": "b8c98af1",
   "metadata": {},
   "outputs": [
    {
     "data": {
      "text/plain": [
       "array([[-1.21900143, -0.05198034,  0.69402731, -0.12359776],\n",
       "       [ 1.77361709,  0.27269254, -0.21295821, -0.47321244]])"
      ]
     },
     "execution_count": 43,
     "metadata": {},
     "output_type": "execute_result"
    }
   ],
   "source": [
    "np.random.randn(2,4)"
   ]
  },
  {
   "cell_type": "markdown",
   "id": "0c386ef2",
   "metadata": {},
   "source": [
    "## normal 设置均值和方差生成具有高斯分布的随机数据"
   ]
  },
  {
   "cell_type": "code",
   "execution_count": 44,
   "id": "72980783",
   "metadata": {},
   "outputs": [
    {
     "data": {
      "text/plain": [
       "-0.3135010787602591"
      ]
     },
     "execution_count": 44,
     "metadata": {},
     "output_type": "execute_result"
    }
   ],
   "source": [
    "np.random.normal()"
   ]
  },
  {
   "cell_type": "code",
   "execution_count": 45,
   "id": "787e2776",
   "metadata": {},
   "outputs": [
    {
     "data": {
      "text/plain": [
       "array([ 1631.67388376,   727.94926784, -2111.81291556,  -232.58443093,\n",
       "        -816.81121939, -1267.4569926 ,   328.06252962,   277.17196915,\n",
       "        1835.59468844,   162.47206197,   530.58481952, -1111.61661026,\n",
       "        2173.06751556,  1704.88610756,  -575.16336901, -1012.49181678,\n",
       "         441.55523899, -1159.36724734,  -699.09003393,  -401.25804659])"
      ]
     },
     "execution_count": 45,
     "metadata": {},
     "output_type": "execute_result"
    }
   ],
   "source": [
    "np.random.normal(10,1000,20)#均值10，方差1000，最后一个为size参数"
   ]
  },
  {
   "cell_type": "code",
   "execution_count": 46,
   "id": "8819329a",
   "metadata": {},
   "outputs": [
    {
     "data": {
      "text/plain": [
       "array([[ -976.93190412,  -521.80745013, -1820.64112767, -1215.90283091],\n",
       "       [-1589.1719541 ,  -264.94728256,  -663.61570823,   373.18608305]])"
      ]
     },
     "execution_count": 46,
     "metadata": {},
     "output_type": "execute_result"
    }
   ],
   "source": [
    "np.random.normal(10,1000,size=(2,4))"
   ]
  },
  {
   "cell_type": "markdown",
   "id": "10da5aa2",
   "metadata": {},
   "source": [
    "## uniform生成具有均匀分布的随机数据"
   ]
  },
  {
   "cell_type": "code",
   "execution_count": 48,
   "id": "8d565d77",
   "metadata": {},
   "outputs": [
    {
     "data": {
      "text/plain": [
       "0.3189467965274373"
      ]
     },
     "execution_count": 48,
     "metadata": {},
     "output_type": "execute_result"
    }
   ],
   "source": [
    "np.random.uniform()"
   ]
  },
  {
   "cell_type": "code",
   "execution_count": 49,
   "id": "51000fde",
   "metadata": {},
   "outputs": [
    {
     "data": {
      "text/plain": [
       "4.110504530854963"
      ]
     },
     "execution_count": 49,
     "metadata": {},
     "output_type": "execute_result"
    }
   ],
   "source": [
    "np.random.uniform(1,5)"
   ]
  },
  {
   "cell_type": "code",
   "execution_count": 50,
   "id": "cc60fdd7",
   "metadata": {},
   "outputs": [
    {
     "data": {
      "text/plain": [
       "array([[1.25758537, 4.97976231, 1.37368286, 4.05804776],\n",
       "       [1.61887301, 3.22989502, 3.33332378, 3.23317518]])"
      ]
     },
     "execution_count": 50,
     "metadata": {},
     "output_type": "execute_result"
    }
   ],
   "source": [
    "np.random.uniform(1,5,(2,4))"
   ]
  },
  {
   "cell_type": "markdown",
   "id": "fec4aa51",
   "metadata": {},
   "source": [
    "## np.函数？查询该函数功能\n",
    "## help(np.函数)"
   ]
  },
  {
   "cell_type": "code",
   "execution_count": 53,
   "id": "c4e1414a",
   "metadata": {},
   "outputs": [],
   "source": [
    "np.random.uniform?"
   ]
  },
  {
   "cell_type": "code",
   "execution_count": 54,
   "id": "df617fdf",
   "metadata": {},
   "outputs": [
    {
     "name": "stdout",
     "output_type": "stream",
     "text": [
      "Help on built-in function uniform:\n",
      "\n",
      "uniform(...) method of numpy.random.mtrand.RandomState instance\n",
      "    uniform(low=0.0, high=1.0, size=None)\n",
      "    \n",
      "    Draw samples from a uniform distribution.\n",
      "    \n",
      "    Samples are uniformly distributed over the half-open interval\n",
      "    ``[low, high)`` (includes low, but excludes high).  In other words,\n",
      "    any value within the given interval is equally likely to be drawn\n",
      "    by `uniform`.\n",
      "    \n",
      "    .. note::\n",
      "        New code should use the `~numpy.random.Generator.uniform`\n",
      "        method of a `~numpy.random.Generator` instance instead;\n",
      "        please see the :ref:`random-quick-start`.\n",
      "    \n",
      "    Parameters\n",
      "    ----------\n",
      "    low : float or array_like of floats, optional\n",
      "        Lower boundary of the output interval.  All values generated will be\n",
      "        greater than or equal to low.  The default value is 0.\n",
      "    high : float or array_like of floats\n",
      "        Upper boundary of the output interval.  All values generated will be\n",
      "        less than or equal to high.  The high limit may be included in the \n",
      "        returned array of floats due to floating-point rounding in the \n",
      "        equation ``low + (high-low) * random_sample()``.  The default value \n",
      "        is 1.0.\n",
      "    size : int or tuple of ints, optional\n",
      "        Output shape.  If the given shape is, e.g., ``(m, n, k)``, then\n",
      "        ``m * n * k`` samples are drawn.  If size is ``None`` (default),\n",
      "        a single value is returned if ``low`` and ``high`` are both scalars.\n",
      "        Otherwise, ``np.broadcast(low, high).size`` samples are drawn.\n",
      "    \n",
      "    Returns\n",
      "    -------\n",
      "    out : ndarray or scalar\n",
      "        Drawn samples from the parameterized uniform distribution.\n",
      "    \n",
      "    See Also\n",
      "    --------\n",
      "    randint : Discrete uniform distribution, yielding integers.\n",
      "    random_integers : Discrete uniform distribution over the closed\n",
      "                      interval ``[low, high]``.\n",
      "    random_sample : Floats uniformly distributed over ``[0, 1)``.\n",
      "    random : Alias for `random_sample`.\n",
      "    rand : Convenience function that accepts dimensions as input, e.g.,\n",
      "           ``rand(2,2)`` would generate a 2-by-2 array of floats,\n",
      "           uniformly distributed over ``[0, 1)``.\n",
      "    random.Generator.uniform: which should be used for new code.\n",
      "    \n",
      "    Notes\n",
      "    -----\n",
      "    The probability density function of the uniform distribution is\n",
      "    \n",
      "    .. math:: p(x) = \\frac{1}{b - a}\n",
      "    \n",
      "    anywhere within the interval ``[a, b)``, and zero elsewhere.\n",
      "    \n",
      "    When ``high`` == ``low``, values of ``low`` will be returned.\n",
      "    If ``high`` < ``low``, the results are officially undefined\n",
      "    and may eventually raise an error, i.e. do not rely on this\n",
      "    function to behave when passed arguments satisfying that\n",
      "    inequality condition. The ``high`` limit may be included in the\n",
      "    returned array of floats due to floating-point rounding in the\n",
      "    equation ``low + (high-low) * random_sample()``. For example:\n",
      "    \n",
      "    >>> x = np.float32(5*0.99999999)\n",
      "    >>> x\n",
      "    5.0\n",
      "    \n",
      "    \n",
      "    Examples\n",
      "    --------\n",
      "    Draw samples from the distribution:\n",
      "    \n",
      "    >>> s = np.random.uniform(-1,0,1000)\n",
      "    \n",
      "    All values are within the given interval:\n",
      "    \n",
      "    >>> np.all(s >= -1)\n",
      "    True\n",
      "    >>> np.all(s < 0)\n",
      "    True\n",
      "    \n",
      "    Display the histogram of the samples, along with the\n",
      "    probability density function:\n",
      "    \n",
      "    >>> import matplotlib.pyplot as plt\n",
      "    >>> count, bins, ignored = plt.hist(s, 15, density=True)\n",
      "    >>> plt.plot(bins, np.ones_like(bins), linewidth=2, color='r')\n",
      "    >>> plt.show()\n",
      "\n"
     ]
    }
   ],
   "source": [
    "help(np.random.uniform)"
   ]
  }
 ],
 "metadata": {
  "kernelspec": {
   "display_name": "Python 3 (ipykernel)",
   "language": "python",
   "name": "python3"
  },
  "language_info": {
   "codemirror_mode": {
    "name": "ipython",
    "version": 3
   },
   "file_extension": ".py",
   "mimetype": "text/x-python",
   "name": "python",
   "nbconvert_exporter": "python",
   "pygments_lexer": "ipython3",
   "version": "3.11.5"
  },
  "toc": {
   "base_numbering": 1,
   "nav_menu": {},
   "number_sections": true,
   "sideBar": true,
   "skip_h1_title": false,
   "title_cell": "Table of Contents",
   "title_sidebar": "Contents",
   "toc_cell": false,
   "toc_position": {},
   "toc_section_display": true,
   "toc_window_display": false
  },
  "varInspector": {
   "cols": {
    "lenName": 16,
    "lenType": 16,
    "lenVar": 40
   },
   "kernels_config": {
    "python": {
     "delete_cmd_postfix": "",
     "delete_cmd_prefix": "del ",
     "library": "var_list.py",
     "varRefreshCmd": "print(var_dic_list())"
    },
    "r": {
     "delete_cmd_postfix": ") ",
     "delete_cmd_prefix": "rm(",
     "library": "var_list.r",
     "varRefreshCmd": "cat(var_dic_list()) "
    }
   },
   "types_to_exclude": [
    "module",
    "function",
    "builtin_function_or_method",
    "instance",
    "_Feature"
   ],
   "window_display": false
  }
 },
 "nbformat": 4,
 "nbformat_minor": 5
}
