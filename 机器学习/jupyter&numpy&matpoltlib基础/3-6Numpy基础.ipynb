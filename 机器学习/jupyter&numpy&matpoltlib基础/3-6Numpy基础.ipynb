{
 "cells": [
  {
   "cell_type": "markdown",
   "id": "2d6e3f30",
   "metadata": {},
   "source": [
    "# 导入Numpy"
   ]
  },
  {
   "cell_type": "code",
   "execution_count": 1,
   "id": "6fc900fc",
   "metadata": {},
   "outputs": [],
   "source": [
    "import numpy as np"
   ]
  },
  {
   "cell_type": "code",
   "execution_count": 2,
   "id": "287ca21f",
   "metadata": {},
   "outputs": [
    {
     "data": {
      "text/plain": [
       "'1.24.3'"
      ]
     },
     "execution_count": 2,
     "metadata": {},
     "output_type": "execute_result"
    }
   ],
   "source": [
    "np.__version__"
   ]
  },
  {
   "cell_type": "markdown",
   "id": "99586436",
   "metadata": {},
   "source": [
    "# Numpy与原生Python的性能对比\n",
    "数组x是由1~n数字组成\n",
    "\n",
    "求数组x中所有数的平方之和"
   ]
  },
  {
   "cell_type": "code",
   "execution_count": 10,
   "id": "a04c62c8",
   "metadata": {},
   "outputs": [],
   "source": [
    "n=1000000"
   ]
  },
  {
   "cell_type": "markdown",
   "id": "ba7ca36f",
   "metadata": {},
   "source": [
    "### Python原始语法实现"
   ]
  },
  {
   "cell_type": "code",
   "execution_count": 11,
   "id": "d71fced7",
   "metadata": {},
   "outputs": [
    {
     "name": "stdout",
     "output_type": "stream",
     "text": [
      "122 ms ± 6.77 ms per loop (mean ± std. dev. of 7 runs, 10 loops each)\n"
     ]
    }
   ],
   "source": [
    "%%timeit\n",
    "x = [i for i in range(n+1)]\n",
    "sum_x = 0\n",
    "for i in x:\n",
    "    sum_x += i**2\n",
    "sum_x"
   ]
  },
  {
   "cell_type": "markdown",
   "id": "b6dd1cc2",
   "metadata": {},
   "source": [
    "### Numpy实现\n",
    "#### numpy的array与python的list的区别：numpy只能是数，提供了矩阵相关运算，list可以是随便，但无矩阵的运算"
   ]
  },
  {
   "cell_type": "code",
   "execution_count": 12,
   "id": "266f1c7a",
   "metadata": {},
   "outputs": [
    {
     "name": "stdout",
     "output_type": "stream",
     "text": [
      "2.91 ms ± 101 µs per loop (mean ± std. dev. of 7 runs, 100 loops each)\n"
     ]
    }
   ],
   "source": [
    "%%timeit\n",
    "x = np.arange(n+1)\n",
    "sum_x = np.sum(x**2)\n",
    "sum_x"
   ]
  }
 ],
 "metadata": {
  "kernelspec": {
   "display_name": "Python 3 (ipykernel)",
   "language": "python",
   "name": "python3"
  },
  "language_info": {
   "codemirror_mode": {
    "name": "ipython",
    "version": 3
   },
   "file_extension": ".py",
   "mimetype": "text/x-python",
   "name": "python",
   "nbconvert_exporter": "python",
   "pygments_lexer": "ipython3",
   "version": "3.11.5"
  }
 },
 "nbformat": 4,
 "nbformat_minor": 5
}
